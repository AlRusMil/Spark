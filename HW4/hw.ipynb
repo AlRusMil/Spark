{
 "cells": [
  {
   "cell_type": "code",
   "execution_count": 255,
   "id": "92f4c5b1",
   "metadata": {},
   "outputs": [
    {
     "data": {
      "text/html": [
       "<style>.container { width:100% !important; }</style>"
      ],
      "text/plain": [
       "<IPython.core.display.HTML object>"
      ]
     },
     "metadata": {},
     "output_type": "display_data"
    },
    {
     "data": {
      "text/html": [
       "<style>.output_result { max-width:100% !important; }</style>"
      ],
      "text/plain": [
       "<IPython.core.display.HTML object>"
      ]
     },
     "metadata": {},
     "output_type": "display_data"
    }
   ],
   "source": [
    "from IPython.core.display import display, HTML\n",
    "display(HTML(\"<style>.container { width:100% !important; }</style>\"))\n",
    "display(HTML(\"<style>.output_result { max-width:100% !important; }</style>\"))"
   ]
  },
  {
   "cell_type": "code",
   "execution_count": 256,
   "id": "cf5177d9",
   "metadata": {},
   "outputs": [
    {
     "name": "stdout",
     "output_type": "stream",
     "text": [
      "Requirement already satisfied: pyspark in /usr/local/spark-3.1.2-bin-hadoop3.2/python (3.1.2)\n",
      "Requirement already satisfied: py4j==0.10.9 in /opt/conda/lib/python3.9/site-packages (from pyspark) (0.10.9)\n"
     ]
    }
   ],
   "source": [
    "!pip install pyspark"
   ]
  },
  {
   "cell_type": "code",
   "execution_count": 257,
   "id": "9f6eda3e",
   "metadata": {},
   "outputs": [],
   "source": [
    "from pyspark.sql import SparkSession\n",
    "spark = SparkSession.builder\\\n",
    "    .master(\"local[2]\")\\\n",
    "    .appName(\"Lesson_2\")\\\n",
    "    .config(\"spark.executor.instances\",2)\\\n",
    "    .config(\"spark.executor.memory\",'2g')\\\n",
    "    .config(\"spark.executor.cores\",1)\\\n",
    "    .getOrCreate()\n",
    "sc = spark.sparkContext"
   ]
  },
  {
   "cell_type": "markdown",
   "id": "6ad0a80c",
   "metadata": {},
   "source": [
    "# Кредитный скоринг\n",
    "При принятии решения о выдаче кредита или займа учитывается т.н. «Кредитный скоринг» — рейтинг платежеспособности клиента. ИИ на основе модели, которую просчитывает машинное обучение — в ней много параметров — возраст, зарплата, кредитная история, наличие недвижимости, автомобиля, судимости и других признаков, после обработки которых выносится положительное или отрицательное решение"
   ]
  },
  {
   "cell_type": "markdown",
   "id": "628bde0b",
   "metadata": {},
   "source": [
    "# Данные:\n",
    "[скачать](https://drive.google.com/file/d/1MuAyZiIm3b_r-AgQSj78tsRPqZpvv_2s/view?usp=sharing)\n",
    "\n",
    "**application_record.csv**\n",
    "*   Feature name\tExplanation\tRemarks\n",
    "*   ID\tClient number\t\n",
    "*   CODE_GENDER\tGender\t\n",
    "*   FLAG_OWN_CAR\tIs there a car\t\n",
    "*   FLAG_OWN_REALTY\tIs there a property\t\n",
    "*   CNT_CHILDREN\tNumber of children\t\n",
    "*   AMT_INCOME_TOTAL\tAnnual income\t\n",
    "*   NAME_INCOME_TYPE\tIncome category\t\n",
    "*   NAME_EDUCATION_TYPE\tEducation level\t\n",
    "*   NAME_FAMILY_STATUS\tMarital status\t\n",
    "*   NAME_HOUSING_TYPE\tWay of living\t\n",
    "*   DAYS_BIRTH\tBirthday\tCount backwards from current day (0), -1 means yesterday\n",
    "*   DAYS_EMPLOYED\tStart date of employment\tCount backwards from current day(0). If positive, it means the person currently unemployed.\n",
    "FLAG_MOBIL\tIs there a mobile phone\t\n",
    "*   FLAG_WORK_PHONE\tIs there a work phone\t\n",
    "*   FLAG_PHONE\tIs there a phone\t\n",
    "*   FLAG_EMAIL\tIs there an email\t\n",
    "*   OCCUPATION_TYPE\tOccupation\t\n",
    "*   CNT_FAM_MEMBERS\tFamily size\t\n",
    "\n",
    "**credit_record.csv**\n",
    "*   Feature name\tExplanation\tRemarks\n",
    "*   ID\tClient number\t\n",
    "*   MONTHS_BALANCE\tRecord month\tThe month of the extracted data is the starting point, backwards, 0 is the current month, -1 is the previous month, and so on\n",
    "*   STATUS\tStatus\t\n",
    "   *   0: 1-29 days past due\n",
    "   *   1: 30-59 days past due \n",
    "   *   2: 60-89 days overdue \n",
    "   *   3: 90-119 days overdue \n",
    "   *   4: 120-149 days overdue \n",
    "    *   5: Overdue or bad debts, write-offs for more than 150 days\n",
    "    *   C: paid off that month X: No loan for the month\n"
   ]
  },
  {
   "cell_type": "code",
   "execution_count": 258,
   "id": "ca908508",
   "metadata": {},
   "outputs": [],
   "source": [
    "# Импорт библиотек\n",
    "from pyspark.sql import functions as F\n",
    "from pyspark.ml.feature import HashingTF, Tokenizer, VectorAssembler, StringIndexer, MinMaxScaler\n",
    "from pyspark.ml import Pipeline\n",
    "from pyspark.ml.classification import LogisticRegression\n",
    "from pyspark.ml.evaluation import BinaryClassificationEvaluator"
   ]
  },
  {
   "cell_type": "markdown",
   "id": "131105fb",
   "metadata": {},
   "source": [
    "## Считываем данные"
   ]
  },
  {
   "cell_type": "code",
   "execution_count": 259,
   "id": "80c79b64",
   "metadata": {},
   "outputs": [
    {
     "name": "stderr",
     "output_type": "stream",
     "text": [
      "[Stage 896:============================>                            (1 + 1) / 2]\r"
     ]
    },
    {
     "name": "stdout",
     "output_type": "stream",
     "text": [
      "root\n",
      " |-- ID: integer (nullable = true)\n",
      " |-- CODE_GENDER: string (nullable = true)\n",
      " |-- FLAG_OWN_CAR: string (nullable = true)\n",
      " |-- FLAG_OWN_REALTY: string (nullable = true)\n",
      " |-- CNT_CHILDREN: integer (nullable = true)\n",
      " |-- AMT_INCOME_TOTAL: double (nullable = true)\n",
      " |-- NAME_INCOME_TYPE: string (nullable = true)\n",
      " |-- NAME_EDUCATION_TYPE: string (nullable = true)\n",
      " |-- NAME_FAMILY_STATUS: string (nullable = true)\n",
      " |-- NAME_HOUSING_TYPE: string (nullable = true)\n",
      " |-- DAYS_BIRTH: integer (nullable = true)\n",
      " |-- DAYS_EMPLOYED: integer (nullable = true)\n",
      " |-- FLAG_MOBIL: integer (nullable = true)\n",
      " |-- FLAG_WORK_PHONE: integer (nullable = true)\n",
      " |-- FLAG_PHONE: integer (nullable = true)\n",
      " |-- FLAG_EMAIL: integer (nullable = true)\n",
      " |-- OCCUPATION_TYPE: string (nullable = true)\n",
      " |-- CNT_FAM_MEMBERS: double (nullable = true)\n",
      "\n",
      "root\n",
      " |-- ID: integer (nullable = true)\n",
      " |-- MONTHS_BALANCE: integer (nullable = true)\n",
      " |-- STATUS: string (nullable = true)\n",
      "\n"
     ]
    },
    {
     "name": "stderr",
     "output_type": "stream",
     "text": [
      "\r",
      "                                                                                \r"
     ]
    }
   ],
   "source": [
    "# Ниже мы, для тех у кого были просрчоки больше 60 дней хоть раз,ставим в таргет 1.\n",
    "\n",
    "# Считываем данные\n",
    "data = spark.read.csv('./application_record.csv', encoding = 'utf-8', header = True, inferSchema = True)\n",
    "record = spark.read.csv('./credit_record.csv', encoding = 'utf-8', header = True, inferSchema = True)\n",
    "\n",
    "data.printSchema()\n",
    "record.printSchema()"
   ]
  },
  {
   "cell_type": "code",
   "execution_count": 260,
   "id": "164c301e",
   "metadata": {},
   "outputs": [
    {
     "data": {
      "text/plain": [
       "438557"
      ]
     },
     "execution_count": 260,
     "metadata": {},
     "output_type": "execute_result"
    }
   ],
   "source": [
    "data.count()"
   ]
  },
  {
   "cell_type": "code",
   "execution_count": 261,
   "id": "7e3b83ba",
   "metadata": {},
   "outputs": [
    {
     "name": "stderr",
     "output_type": "stream",
     "text": [
      "\r",
      "[Stage 899:============================>                            (1 + 1) / 2]\r",
      "\r",
      "                                                                                \r"
     ]
    },
    {
     "data": {
      "text/plain": [
       "1048575"
      ]
     },
     "execution_count": 261,
     "metadata": {},
     "output_type": "execute_result"
    }
   ],
   "source": [
    "record.count()"
   ]
  },
  {
   "cell_type": "code",
   "execution_count": 262,
   "id": "1a7dae26",
   "metadata": {},
   "outputs": [
    {
     "name": "stderr",
     "output_type": "stream",
     "text": [
      "                                                                                \r"
     ]
    },
    {
     "name": "stdout",
     "output_type": "stream",
     "text": [
      "+--------+-----------+\n",
      "|ID_month|begin_month|\n",
      "+--------+-----------+\n",
      "| 5001812|         22|\n",
      "| 5001849|          8|\n",
      "| 5001921|         19|\n",
      "+--------+-----------+\n",
      "only showing top 3 rows\n",
      "\n"
     ]
    },
    {
     "name": "stderr",
     "output_type": "stream",
     "text": [
      "                                                                                \r"
     ]
    },
    {
     "data": {
      "text/plain": [
       "45985"
      ]
     },
     "execution_count": 262,
     "metadata": {},
     "output_type": "execute_result"
    }
   ],
   "source": [
    "# Добавляем срок кредита к параметрма выдачи кредита\n",
    "begin_month = record.groupBy(F.col('ID').alias('ID_month')).agg((F.min('MONTHS_BALANCE') * (-1)).alias('begin_month'))\n",
    "\n",
    "begin_month.show(3)\n",
    "begin_month.count()"
   ]
  },
  {
   "cell_type": "code",
   "execution_count": 263,
   "id": "98040aa2",
   "metadata": {},
   "outputs": [
    {
     "name": "stderr",
     "output_type": "stream",
     "text": [
      "                                                                                \r"
     ]
    },
    {
     "name": "stdout",
     "output_type": "stream",
     "text": [
      "+-------+-----------+------------+---------------+------------+----------------+----------------+--------------------+------------------+-----------------+----------+-------------+----------+---------------+----------+----------+---------------+---------------+--------+-----------+\n",
      "|     ID|CODE_GENDER|FLAG_OWN_CAR|FLAG_OWN_REALTY|CNT_CHILDREN|AMT_INCOME_TOTAL|NAME_INCOME_TYPE| NAME_EDUCATION_TYPE|NAME_FAMILY_STATUS|NAME_HOUSING_TYPE|DAYS_BIRTH|DAYS_EMPLOYED|FLAG_MOBIL|FLAG_WORK_PHONE|FLAG_PHONE|FLAG_EMAIL|OCCUPATION_TYPE|CNT_FAM_MEMBERS|ID_month|begin_month|\n",
      "+-------+-----------+------------+---------------+------------+----------------+----------------+--------------------+------------------+-----------------+----------+-------------+----------+---------------+----------+----------+---------------+---------------+--------+-----------+\n",
      "|5008804|          M|           Y|              Y|           0|        427500.0|         Working|    Higher education|    Civil marriage| Rented apartment|    -12005|        -4542|         1|              1|         0|         0|           null|            2.0| 5008804|         15|\n",
      "|5008805|          M|           Y|              Y|           0|        427500.0|         Working|    Higher education|    Civil marriage| Rented apartment|    -12005|        -4542|         1|              1|         0|         0|           null|            2.0| 5008805|         14|\n",
      "|5008806|          M|           Y|              Y|           0|        112500.0|         Working|Secondary / secon...|           Married|House / apartment|    -21474|        -1134|         1|              0|         0|         0| Security staff|            2.0| 5008806|         29|\n",
      "+-------+-----------+------------+---------------+------------+----------------+----------------+--------------------+------------------+-----------------+----------+-------------+----------+---------------+----------+----------+---------------+---------------+--------+-----------+\n",
      "only showing top 3 rows\n",
      "\n"
     ]
    },
    {
     "name": "stderr",
     "output_type": "stream",
     "text": [
      "                                                                                \r"
     ]
    },
    {
     "data": {
      "text/plain": [
       "438557"
      ]
     },
     "execution_count": 263,
     "metadata": {},
     "output_type": "execute_result"
    }
   ],
   "source": [
    "new_data = data.join(begin_month, on = [data.ID == begin_month.ID_month], how = 'left')\n",
    "new_data.show(3)\n",
    "new_data.count()"
   ]
  },
  {
   "cell_type": "code",
   "execution_count": 264,
   "id": "3c4030d0",
   "metadata": {},
   "outputs": [
    {
     "name": "stderr",
     "output_type": "stream",
     "text": [
      "[Stage 914:====================================>                (139 + 2) / 200]\r"
     ]
    },
    {
     "name": "stdout",
     "output_type": "stream",
     "text": [
      "+-------+-----------+------------+-----------+\n",
      "|     ID|CODE_GENDER|CNT_CHILDREN|begin_month|\n",
      "+-------+-----------+------------+-----------+\n",
      "|5008804|          M|           0|         15|\n",
      "|5008805|          M|           0|         14|\n",
      "|5008806|          M|           0|         29|\n",
      "|5008808|          F|           0|          4|\n",
      "|5008809|          F|           0|         26|\n",
      "|5008810|          F|           0|         26|\n",
      "|5008811|          F|           0|         38|\n",
      "|5008812|          F|           0|         20|\n",
      "|5008813|          F|           0|         16|\n",
      "|5008814|          F|           0|         17|\n",
      "+-------+-----------+------------+-----------+\n",
      "only showing top 10 rows\n",
      "\n"
     ]
    },
    {
     "name": "stderr",
     "output_type": "stream",
     "text": [
      "\r",
      "[Stage 914:=================================================>   (186 + 2) / 200]\r",
      "\r",
      "                                                                                \r"
     ]
    }
   ],
   "source": [
    "# Пример данных из полученного DataFrame'а\n",
    "new_data.select('ID', 'CODE_GENDER', 'CNT_CHILDREN', 'begin_month').show(10)"
   ]
  },
  {
   "cell_type": "code",
   "execution_count": 265,
   "id": "cf038bc3",
   "metadata": {},
   "outputs": [],
   "source": [
    "# Больше 60, то это просрочка ставим - Yes, если просрочка есть за срок кредита,то так же ставим Yes\n",
    "record = record.withColumn('dep_value', F.when(F.col('STATUS') == 2, 'YES') \\\n",
    "                                         .when(F.col('STATUS') == 3, 'YES') \\\n",
    "                                         .when(F.col('STATUS') == 4, 'YES') \\\n",
    "                                         .when(F.col('STATUS') == 5, 'YES') )\n",
    "cpunt = record.select('ID', 'dep_value').groupBy('ID').agg(F.count(F.col('dep_value')).alias('dep_value'))\n",
    "cpunt = cpunt.select('ID', F.when(F.col('dep_value') > 0, 'YES').when(F.col('dep_value') == 0, 'NO').alias('dep_value'))"
   ]
  },
  {
   "cell_type": "code",
   "execution_count": 266,
   "id": "08604972",
   "metadata": {},
   "outputs": [
    {
     "name": "stderr",
     "output_type": "stream",
     "text": [
      "                                                                                \r"
     ]
    },
    {
     "data": {
      "text/plain": [
       "667"
      ]
     },
     "execution_count": 266,
     "metadata": {},
     "output_type": "execute_result"
    }
   ],
   "source": [
    "cpunt.filter(F.col('dep_value') == 'YES').count()"
   ]
  },
  {
   "cell_type": "code",
   "execution_count": 267,
   "id": "54953117",
   "metadata": {},
   "outputs": [
    {
     "name": "stderr",
     "output_type": "stream",
     "text": [
      "                                                                                \r"
     ]
    },
    {
     "data": {
      "text/plain": [
       "45318"
      ]
     },
     "execution_count": 267,
     "metadata": {},
     "output_type": "execute_result"
    }
   ],
   "source": [
    "cpunt.filter(F.col('dep_value') == 'NO').count()"
   ]
  },
  {
   "cell_type": "code",
   "execution_count": 268,
   "id": "f6586189",
   "metadata": {},
   "outputs": [],
   "source": [
    "# Джойним всё вместе, заменяем Yea и No на 1 и 0\n",
    "new_data = new_data.join(cpunt, on = 'ID', how = 'inner')"
   ]
  },
  {
   "cell_type": "code",
   "execution_count": 269,
   "id": "19a9f6a2",
   "metadata": {},
   "outputs": [
    {
     "name": "stderr",
     "output_type": "stream",
     "text": [
      "                                                                                \r"
     ]
    },
    {
     "data": {
      "text/plain": [
       "36457"
      ]
     },
     "execution_count": 269,
     "metadata": {},
     "output_type": "execute_result"
    }
   ],
   "source": [
    "new_data.count()"
   ]
  },
  {
   "cell_type": "code",
   "execution_count": 270,
   "id": "70d024f3",
   "metadata": {},
   "outputs": [
    {
     "name": "stderr",
     "output_type": "stream",
     "text": [
      "                                                                                \r"
     ]
    }
   ],
   "source": [
    "si = StringIndexer(inputCol = 'dep_value', outputCol = 'target')\n",
    "si = si.fit(new_data)\n",
    "new_data = si.transform(new_data)"
   ]
  },
  {
   "cell_type": "code",
   "execution_count": 271,
   "id": "40a5adf9",
   "metadata": {},
   "outputs": [
    {
     "name": "stderr",
     "output_type": "stream",
     "text": [
      "                                                                                \r"
     ]
    },
    {
     "data": {
      "text/plain": [
       "36457"
      ]
     },
     "execution_count": 271,
     "metadata": {},
     "output_type": "execute_result"
    }
   ],
   "source": [
    "new_data.count()"
   ]
  },
  {
   "cell_type": "code",
   "execution_count": 272,
   "id": "785c5481",
   "metadata": {},
   "outputs": [
    {
     "name": "stderr",
     "output_type": "stream",
     "text": [
      "                                                                                \r"
     ]
    },
    {
     "data": {
      "text/plain": [
       "35841"
      ]
     },
     "execution_count": 272,
     "metadata": {},
     "output_type": "execute_result"
    }
   ],
   "source": [
    "new_data.filter(F.col('target') == 0.0).count()"
   ]
  },
  {
   "cell_type": "code",
   "execution_count": 273,
   "id": "f87f747d",
   "metadata": {},
   "outputs": [
    {
     "name": "stderr",
     "output_type": "stream",
     "text": [
      "                                                                                \r"
     ]
    },
    {
     "data": {
      "text/plain": [
       "616"
      ]
     },
     "execution_count": 273,
     "metadata": {},
     "output_type": "execute_result"
    }
   ],
   "source": [
    "new_data.filter(F.col('target') == 1.0).count()"
   ]
  },
  {
   "cell_type": "code",
   "execution_count": 274,
   "id": "f24f4603",
   "metadata": {},
   "outputs": [
    {
     "name": "stderr",
     "output_type": "stream",
     "text": [
      "[Stage 954:==============================================>      (176 + 2) / 200]\r"
     ]
    },
    {
     "name": "stdout",
     "output_type": "stream",
     "text": [
      "+-------+-----------+------------+---------------+------------+----------------+--------------------+--------------------+--------------------+-----------------+----------+-------------+----------+---------------+----------+----------+---------------+---------------+--------+-----------+---------+------+\n",
      "|     ID|CODE_GENDER|FLAG_OWN_CAR|FLAG_OWN_REALTY|CNT_CHILDREN|AMT_INCOME_TOTAL|    NAME_INCOME_TYPE| NAME_EDUCATION_TYPE|  NAME_FAMILY_STATUS|NAME_HOUSING_TYPE|DAYS_BIRTH|DAYS_EMPLOYED|FLAG_MOBIL|FLAG_WORK_PHONE|FLAG_PHONE|FLAG_EMAIL|OCCUPATION_TYPE|CNT_FAM_MEMBERS|ID_month|begin_month|dep_value|target|\n",
      "+-------+-----------+------------+---------------+------------+----------------+--------------------+--------------------+--------------------+-----------------+----------+-------------+----------+---------------+----------+----------+---------------+---------------+--------+-----------+---------+------+\n",
      "|5008804|          M|           Y|              Y|           0|        427500.0|             Working|    Higher education|      Civil marriage| Rented apartment|    -12005|        -4542|         1|              1|         0|         0|           null|            2.0| 5008804|         15|       NO|   0.0|\n",
      "|5008805|          M|           Y|              Y|           0|        427500.0|             Working|    Higher education|      Civil marriage| Rented apartment|    -12005|        -4542|         1|              1|         0|         0|           null|            2.0| 5008805|         14|       NO|   0.0|\n",
      "|5008806|          M|           Y|              Y|           0|        112500.0|             Working|Secondary / secon...|             Married|House / apartment|    -21474|        -1134|         1|              0|         0|         0| Security staff|            2.0| 5008806|         29|       NO|   0.0|\n",
      "|5008808|          F|           N|              Y|           0|        270000.0|Commercial associate|Secondary / secon...|Single / not married|House / apartment|    -19110|        -3051|         1|              0|         1|         1|    Sales staff|            1.0| 5008808|          4|       NO|   0.0|\n",
      "|5008809|          F|           N|              Y|           0|        270000.0|Commercial associate|Secondary / secon...|Single / not married|House / apartment|    -19110|        -3051|         1|              0|         1|         1|    Sales staff|            1.0| 5008809|         26|       NO|   0.0|\n",
      "+-------+-----------+------------+---------------+------------+----------------+--------------------+--------------------+--------------------+-----------------+----------+-------------+----------+---------------+----------+----------+---------------+---------------+--------+-----------+---------+------+\n",
      "only showing top 5 rows\n",
      "\n"
     ]
    },
    {
     "name": "stderr",
     "output_type": "stream",
     "text": [
      "\r",
      "[Stage 954:===================================================> (194 + 2) / 200]\r",
      "\r",
      "                                                                                \r"
     ]
    }
   ],
   "source": [
    "new_data.orderBy(F.col('ID')).show(5)"
   ]
  },
  {
   "cell_type": "code",
   "execution_count": 296,
   "id": "9c6b90e6",
   "metadata": {},
   "outputs": [],
   "source": [
    "# Упростим себе задачу и оставим только часть признаков\n",
    "features = ['AMT_INCOME_TOTAL', 'CODE_GENDER', 'FLAG_OWN_CAR', 'FLAG_OWN_REALTY', 'CNT_CHILDREN']\t\n",
    "target = ['target',]\n",
    "dataset_source = new_data.select(features + target)"
   ]
  },
  {
   "cell_type": "code",
   "execution_count": 297,
   "id": "85847bd5",
   "metadata": {},
   "outputs": [
    {
     "name": "stderr",
     "output_type": "stream",
     "text": [
      "                                                                                \r"
     ]
    },
    {
     "data": {
      "text/plain": [
       "36457"
      ]
     },
     "execution_count": 297,
     "metadata": {},
     "output_type": "execute_result"
    }
   ],
   "source": [
    "dataset_source.count()"
   ]
  },
  {
   "cell_type": "code",
   "execution_count": 298,
   "id": "14b76940",
   "metadata": {},
   "outputs": [
    {
     "name": "stderr",
     "output_type": "stream",
     "text": [
      "[Stage 1044:============================================>       (173 + 2) / 200]\r"
     ]
    },
    {
     "name": "stdout",
     "output_type": "stream",
     "text": [
      "+----------------+-----------+------------+---------------+------------+------+\n",
      "|AMT_INCOME_TOTAL|CODE_GENDER|FLAG_OWN_CAR|FLAG_OWN_REALTY|CNT_CHILDREN|target|\n",
      "+----------------+-----------+------------+---------------+------------+------+\n",
      "|         27000.0|          F|           N|              N|           0|   0.0|\n",
      "|         27000.0|          F|           N|              N|           0|   0.0|\n",
      "|         27000.0|          F|           N|              Y|           0|   0.0|\n",
      "|         29250.0|          F|           Y|              Y|           0|   0.0|\n",
      "|         29250.0|          F|           Y|              Y|           0|   0.0|\n",
      "|         29250.0|          F|           Y|              Y|           0|   0.0|\n",
      "|         29250.0|          F|           Y|              Y|           0|   0.0|\n",
      "|         29250.0|          F|           Y|              Y|           0|   0.0|\n",
      "|         29250.0|          F|           Y|              Y|           0|   0.0|\n",
      "|         29250.0|          F|           Y|              Y|           0|   0.0|\n",
      "|         30150.0|          M|           N|              Y|           0|   0.0|\n",
      "|         30150.0|          M|           N|              Y|           0|   0.0|\n",
      "|         30150.0|          M|           N|              Y|           0|   0.0|\n",
      "|         31500.0|          F|           Y|              N|           0|   0.0|\n",
      "|         31500.0|          M|           N|              Y|           0|   0.0|\n",
      "|         31500.0|          F|           Y|              N|           0|   0.0|\n",
      "|         31500.0|          F|           Y|              N|           0|   0.0|\n",
      "|         31500.0|          F|           Y|              N|           0|   0.0|\n",
      "|         31500.0|          M|           N|              Y|           0|   0.0|\n",
      "|         31500.0|          M|           N|              Y|           0|   0.0|\n",
      "|         31500.0|          F|           Y|              N|           0|   0.0|\n",
      "|         31500.0|          M|           N|              Y|           0|   0.0|\n",
      "|         31500.0|          M|           N|              Y|           0|   0.0|\n",
      "|         31500.0|          F|           Y|              N|           0|   0.0|\n",
      "|         31500.0|          M|           N|              Y|           0|   0.0|\n",
      "|         31500.0|          F|           Y|              N|           0|   0.0|\n",
      "|         31500.0|          F|           N|              N|           0|   0.0|\n",
      "|         31500.0|          F|           Y|              N|           0|   0.0|\n",
      "|         31500.0|          M|           N|              Y|           0|   0.0|\n",
      "|         31531.5|          F|           Y|              N|           0|   0.0|\n",
      "+----------------+-----------+------------+---------------+------------+------+\n",
      "only showing top 30 rows\n",
      "\n"
     ]
    },
    {
     "name": "stderr",
     "output_type": "stream",
     "text": [
      "\r",
      "[Stage 1044:================================================>   (188 + 2) / 200]\r",
      "\r",
      "                                                                                \r"
     ]
    }
   ],
   "source": [
    "dataset_source.orderBy(F.col('AMT_INCOME_TOTAL')).show(30)"
   ]
  },
  {
   "cell_type": "markdown",
   "id": "133fb9b2",
   "metadata": {},
   "source": [
    "У нас есть выборка, где указаны параметры клиента и вышел ли он на просрочку или нет.\n",
    "\n",
    "Дальше будем исследовать, есть ли связь между этими параметрами и возвратом кредита.\n",
    "\n",
    "Можете уже на этом этапе предложить гипотезы, а мы их проверим. Предположим, что чем больше детей, тем меньше вероятность, что будет просрочка."
   ]
  },
  {
   "cell_type": "code",
   "execution_count": 299,
   "id": "ec609b2a",
   "metadata": {},
   "outputs": [],
   "source": [
    "# Делаем последовательно. Не через PipeLine.\n",
    "dataset = dataset_source.select('*')"
   ]
  },
  {
   "cell_type": "code",
   "execution_count": 300,
   "id": "eef220e7",
   "metadata": {},
   "outputs": [
    {
     "name": "stderr",
     "output_type": "stream",
     "text": [
      "                                                                                \r"
     ]
    }
   ],
   "source": [
    "# Превращаем категориальные фаткоры ('CODE_GENDER', 'FLAG_OWN_CAR', 'FLAG_OWN_REALTY') в численные \n",
    "si_cg = StringIndexer(inputCol = 'CODE_GENDER', outputCol = 'CODE_GENDER_si')\n",
    "si_cg = si_cg.fit(dataset)\n",
    "dataset = si_cg.transform(dataset)\n",
    "\n",
    "si_foc = StringIndexer(inputCol = 'FLAG_OWN_CAR', outputCol = 'FLAG_OWN_CAR_si')\n",
    "si_foc = si_foc.fit(dataset)\n",
    "dataset = si_foc.transform(dataset)\n",
    "\n",
    "si_for = StringIndexer(inputCol = 'FLAG_OWN_REALTY', outputCol = 'FLAG_OWN_REALTY_si')\n",
    "si_for = si_for.fit(dataset)\n",
    "dataset = si_for.transform(dataset)\n"
   ]
  },
  {
   "cell_type": "code",
   "execution_count": 301,
   "id": "11fcd63d",
   "metadata": {},
   "outputs": [
    {
     "name": "stderr",
     "output_type": "stream",
     "text": [
      "[Stage 1063:============================>                           (1 + 1) / 2]\r"
     ]
    },
    {
     "name": "stdout",
     "output_type": "stream",
     "text": [
      "+----------------+-----------+------------+---------------+------------+------+--------------+---------------+------------------+\n",
      "|AMT_INCOME_TOTAL|CODE_GENDER|FLAG_OWN_CAR|FLAG_OWN_REALTY|CNT_CHILDREN|target|CODE_GENDER_si|FLAG_OWN_CAR_si|FLAG_OWN_REALTY_si|\n",
      "+----------------+-----------+------------+---------------+------------+------+--------------+---------------+------------------+\n",
      "|        255150.0|          F|           N|              N|           0|   0.0|           0.0|            0.0|               1.0|\n",
      "|        112500.0|          F|           N|              N|           0|   0.0|           0.0|            0.0|               1.0|\n",
      "|        135000.0|          F|           N|              N|           0|   0.0|           0.0|            0.0|               1.0|\n",
      "|        198000.0|          M|           N|              N|           0|   0.0|           1.0|            0.0|               1.0|\n",
      "|        279000.0|          F|           N|              Y|           0|   0.0|           0.0|            0.0|               0.0|\n",
      "|        225000.0|          M|           Y|              Y|           0|   0.0|           1.0|            1.0|               0.0|\n",
      "|        216000.0|          F|           N|              N|           0|   0.0|           0.0|            0.0|               1.0|\n",
      "|        157500.0|          F|           Y|              Y|           1|   0.0|           0.0|            1.0|               0.0|\n",
      "|        103500.0|          F|           N|              Y|           0|   0.0|           0.0|            0.0|               0.0|\n",
      "|        180000.0|          F|           N|              Y|           0|   0.0|           0.0|            0.0|               0.0|\n",
      "|        292500.0|          F|           N|              Y|           0|   0.0|           0.0|            0.0|               0.0|\n",
      "|        202500.0|          F|           N|              Y|           0|   0.0|           0.0|            0.0|               0.0|\n",
      "|         67500.0|          F|           Y|              Y|           1|   0.0|           0.0|            1.0|               0.0|\n",
      "|        445500.0|          F|           Y|              Y|           0|   0.0|           0.0|            1.0|               0.0|\n",
      "|        135000.0|          M|           Y|              Y|           0|   0.0|           1.0|            1.0|               0.0|\n",
      "|        112500.0|          M|           Y|              Y|           0|   0.0|           1.0|            1.0|               0.0|\n",
      "|        157500.0|          F|           N|              N|           1|   0.0|           0.0|            0.0|               1.0|\n",
      "|        202500.0|          F|           Y|              N|           0|   0.0|           0.0|            1.0|               1.0|\n",
      "|        360000.0|          M|           Y|              N|           0|   0.0|           1.0|            1.0|               1.0|\n",
      "|        108000.0|          F|           N|              Y|           0|   0.0|           0.0|            0.0|               0.0|\n",
      "+----------------+-----------+------------+---------------+------------+------+--------------+---------------+------------------+\n",
      "only showing top 20 rows\n",
      "\n"
     ]
    },
    {
     "name": "stderr",
     "output_type": "stream",
     "text": [
      "\r",
      "                                                                                \r"
     ]
    }
   ],
   "source": [
    "dataset.show()"
   ]
  },
  {
   "cell_type": "code",
   "execution_count": 302,
   "id": "b4a7ca64",
   "metadata": {},
   "outputs": [],
   "source": [
    "# формируем вектора (features) из данных отдельных колонок\n",
    "va = VectorAssembler(inputCols = ['AMT_INCOME_TOTAL', 'CNT_CHILDREN', 'CODE_GENDER_si', 'FLAG_OWN_CAR_si', 'FLAG_OWN_REALTY_si'],\n",
    "                     outputCol = 'pre_features')\n",
    "dataset = va.transform(dataset)\n",
    "dataset = dataset.select('AMT_INCOME_TOTAL', 'CNT_CHILDREN', 'CODE_GENDER_si', 'FLAG_OWN_CAR_si', 'FLAG_OWN_REALTY_si', \n",
    "                         'pre_features', F.col('TARGET').alias('label'))"
   ]
  },
  {
   "cell_type": "code",
   "execution_count": 303,
   "id": "bee7e5a3",
   "metadata": {
    "scrolled": true
   },
   "outputs": [
    {
     "name": "stderr",
     "output_type": "stream",
     "text": [
      "[Stage 1068:>                                                       (0 + 2) / 2]\r"
     ]
    },
    {
     "name": "stdout",
     "output_type": "stream",
     "text": [
      "+----------------+------------+--------------+---------------+------------------+--------------------+-----+\n",
      "|AMT_INCOME_TOTAL|CNT_CHILDREN|CODE_GENDER_si|FLAG_OWN_CAR_si|FLAG_OWN_REALTY_si|        pre_features|label|\n",
      "+----------------+------------+--------------+---------------+------------------+--------------------+-----+\n",
      "|        255150.0|           0|           0.0|            0.0|               1.0|(5,[0,4],[255150....|  0.0|\n",
      "|        112500.0|           0|           0.0|            0.0|               1.0|(5,[0,4],[112500....|  0.0|\n",
      "|        135000.0|           0|           0.0|            0.0|               1.0|(5,[0,4],[135000....|  0.0|\n",
      "|        198000.0|           0|           1.0|            0.0|               1.0|[198000.0,0.0,1.0...|  0.0|\n",
      "|        279000.0|           0|           0.0|            0.0|               0.0|  (5,[0],[279000.0])|  0.0|\n",
      "|        225000.0|           0|           1.0|            1.0|               0.0|[225000.0,0.0,1.0...|  0.0|\n",
      "|        216000.0|           0|           0.0|            0.0|               1.0|(5,[0,4],[216000....|  0.0|\n",
      "|        157500.0|           1|           0.0|            1.0|               0.0|[157500.0,1.0,0.0...|  0.0|\n",
      "|        103500.0|           0|           0.0|            0.0|               0.0|  (5,[0],[103500.0])|  0.0|\n",
      "|        180000.0|           0|           0.0|            0.0|               0.0|  (5,[0],[180000.0])|  0.0|\n",
      "+----------------+------------+--------------+---------------+------------------+--------------------+-----+\n",
      "only showing top 10 rows\n",
      "\n"
     ]
    },
    {
     "name": "stderr",
     "output_type": "stream",
     "text": [
      "\r",
      "[Stage 1068:============================>                           (1 + 1) / 2]\r",
      "\r",
      "                                                                                \r"
     ]
    }
   ],
   "source": [
    "dataset.show(10)"
   ]
  },
  {
   "cell_type": "code",
   "execution_count": 304,
   "id": "f9f9f219",
   "metadata": {},
   "outputs": [
    {
     "name": "stderr",
     "output_type": "stream",
     "text": [
      "                                                                                \r"
     ]
    }
   ],
   "source": [
    "# Отскалируем полученные вектора\n",
    "mms = MinMaxScaler(inputCol = 'pre_features', outputCol = 'features')\n",
    "mms = mms.fit(dataset)\n",
    "dataset = mms.transform(dataset)"
   ]
  },
  {
   "cell_type": "code",
   "execution_count": 305,
   "id": "d6e8515d",
   "metadata": {},
   "outputs": [
    {
     "name": "stderr",
     "output_type": "stream",
     "text": [
      "[Stage 1078:>                                                       (0 + 2) / 2]\r"
     ]
    },
    {
     "name": "stdout",
     "output_type": "stream",
     "text": [
      "+----------------+------------+--------------+---------------+------------------+--------------------+-----+--------------------+\n",
      "|AMT_INCOME_TOTAL|CNT_CHILDREN|CODE_GENDER_si|FLAG_OWN_CAR_si|FLAG_OWN_REALTY_si|        pre_features|label|            features|\n",
      "+----------------+------------+--------------+---------------+------------------+--------------------+-----+--------------------+\n",
      "|        255150.0|           0|           0.0|            0.0|               1.0|(5,[0,4],[255150....|  0.0|(5,[0,4],[0.14738...|\n",
      "|        112500.0|           0|           0.0|            0.0|               1.0|(5,[0,4],[112500....|  0.0|(5,[0,4],[0.05523...|\n",
      "|        135000.0|           0|           0.0|            0.0|               1.0|(5,[0,4],[135000....|  0.0|(5,[0,4],[0.06976...|\n",
      "|        198000.0|           0|           1.0|            0.0|               1.0|[198000.0,0.0,1.0...|  0.0|[0.11046511627906...|\n",
      "|        279000.0|           0|           0.0|            0.0|               0.0|  (5,[0],[279000.0])|  0.0|(5,[0],[0.1627906...|\n",
      "|        225000.0|           0|           1.0|            1.0|               0.0|[225000.0,0.0,1.0...|  0.0|[0.12790697674418...|\n",
      "|        216000.0|           0|           0.0|            0.0|               1.0|(5,[0,4],[216000....|  0.0|(5,[0,4],[0.12209...|\n",
      "|        157500.0|           1|           0.0|            1.0|               0.0|[157500.0,1.0,0.0...|  0.0|[0.08430232558139...|\n",
      "|        103500.0|           0|           0.0|            0.0|               0.0|  (5,[0],[103500.0])|  0.0|(5,[0],[0.0494186...|\n",
      "|        180000.0|           0|           0.0|            0.0|               0.0|  (5,[0],[180000.0])|  0.0|(5,[0],[0.0988372...|\n",
      "|        292500.0|           0|           0.0|            0.0|               0.0|  (5,[0],[292500.0])|  0.0|(5,[0],[0.1715116...|\n",
      "|        202500.0|           0|           0.0|            0.0|               0.0|  (5,[0],[202500.0])|  0.0|(5,[0],[0.1133720...|\n",
      "|         67500.0|           1|           0.0|            1.0|               0.0|[67500.0,1.0,0.0,...|  0.0|[0.02616279069767...|\n",
      "|        445500.0|           0|           0.0|            1.0|               0.0|(5,[0,3],[445500....|  0.0|(5,[0,3],[0.27034...|\n",
      "|        135000.0|           0|           1.0|            1.0|               0.0|[135000.0,0.0,1.0...|  0.0|[0.06976744186046...|\n",
      "|        112500.0|           0|           1.0|            1.0|               0.0|[112500.0,0.0,1.0...|  0.0|[0.05523255813953...|\n",
      "|        157500.0|           1|           0.0|            0.0|               1.0|[157500.0,1.0,0.0...|  0.0|[0.08430232558139...|\n",
      "|        202500.0|           0|           0.0|            1.0|               1.0|[202500.0,0.0,0.0...|  0.0|[0.11337209302325...|\n",
      "|        360000.0|           0|           1.0|            1.0|               1.0|[360000.0,0.0,1.0...|  0.0|[0.21511627906976...|\n",
      "|        108000.0|           0|           0.0|            0.0|               0.0|  (5,[0],[108000.0])|  0.0|(5,[0],[0.0523255...|\n",
      "+----------------+------------+--------------+---------------+------------------+--------------------+-----+--------------------+\n",
      "only showing top 20 rows\n",
      "\n"
     ]
    },
    {
     "name": "stderr",
     "output_type": "stream",
     "text": [
      "\r",
      "[Stage 1078:============================>                           (1 + 1) / 2]\r",
      "\r",
      "                                                                                \r"
     ]
    }
   ],
   "source": [
    "dataset.show()"
   ]
  },
  {
   "cell_type": "code",
   "execution_count": 306,
   "id": "2eadf8c7",
   "metadata": {},
   "outputs": [],
   "source": [
    "# Разделим выборку на трейн и тест, на трейн будем обучать модель, на тест валидировать.\n",
    "train, test = dataset.randomSplit([0.7, 0.3])"
   ]
  },
  {
   "cell_type": "markdown",
   "id": "8d6e1822",
   "metadata": {},
   "source": [
    "#  Модель"
   ]
  },
  {
   "cell_type": "markdown",
   "id": "e0d767ae",
   "metadata": {},
   "source": [
    "Модель будет находить коэффициенты alpha и beta, где Х наши колонки, факторы. Погуглите подробнее, но данная формула даёт вероятность события."
   ]
  },
  {
   "cell_type": "markdown",
   "id": "07761273",
   "metadata": {},
   "source": [
    "![Peq2.jpg](data:image/jpeg;base64,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)"
   ]
  },
  {
   "cell_type": "code",
   "execution_count": 307,
   "id": "e97b0d06",
   "metadata": {},
   "outputs": [
    {
     "name": "stderr",
     "output_type": "stream",
     "text": [
      "                                                                                \r"
     ]
    }
   ],
   "source": [
    "lr = LogisticRegression()\n",
    "\n",
    "lr = lr.fit(train)\n",
    "\n",
    "train = lr.transform(train)\n",
    "test = lr.transform(test)"
   ]
  },
  {
   "cell_type": "code",
   "execution_count": 308,
   "id": "be0cbe28",
   "metadata": {},
   "outputs": [
    {
     "name": "stdout",
     "output_type": "stream",
     "text": [
      "root\n",
      " |-- AMT_INCOME_TOTAL: double (nullable = true)\n",
      " |-- CNT_CHILDREN: integer (nullable = true)\n",
      " |-- CODE_GENDER_si: double (nullable = false)\n",
      " |-- FLAG_OWN_CAR_si: double (nullable = false)\n",
      " |-- FLAG_OWN_REALTY_si: double (nullable = false)\n",
      " |-- pre_features: vector (nullable = true)\n",
      " |-- label: double (nullable = false)\n",
      " |-- features: vector (nullable = true)\n",
      " |-- rawPrediction: vector (nullable = true)\n",
      " |-- probability: vector (nullable = true)\n",
      " |-- prediction: double (nullable = false)\n",
      "\n",
      "root\n",
      " |-- AMT_INCOME_TOTAL: double (nullable = true)\n",
      " |-- CNT_CHILDREN: integer (nullable = true)\n",
      " |-- CODE_GENDER_si: double (nullable = false)\n",
      " |-- FLAG_OWN_CAR_si: double (nullable = false)\n",
      " |-- FLAG_OWN_REALTY_si: double (nullable = false)\n",
      " |-- pre_features: vector (nullable = true)\n",
      " |-- label: double (nullable = false)\n",
      " |-- features: vector (nullable = true)\n",
      " |-- rawPrediction: vector (nullable = true)\n",
      " |-- probability: vector (nullable = true)\n",
      " |-- prediction: double (nullable = false)\n",
      "\n"
     ]
    }
   ],
   "source": [
    "train.printSchema()\n",
    "test.printSchema()"
   ]
  },
  {
   "cell_type": "code",
   "execution_count": 316,
   "id": "c8edfe0d",
   "metadata": {},
   "outputs": [
    {
     "name": "stderr",
     "output_type": "stream",
     "text": [
      "[Stage 1242:================================================>   (188 + 2) / 200]\r"
     ]
    },
    {
     "name": "stdout",
     "output_type": "stream",
     "text": [
      "Точность модели на трейне 0.5560676975483256, на тесте 0.5586205529707002\n"
     ]
    },
    {
     "name": "stderr",
     "output_type": "stream",
     "text": [
      "\r",
      "                                                                                \r"
     ]
    }
   ],
   "source": [
    "# Считаем score\n",
    "evaluator = BinaryClassificationEvaluator()\n",
    "train_score, test_score = evaluator.evaluate(train), evaluator.evaluate(test)\n",
    "print(f'Точность модели на трейне {train_score}, на тесте {test_score}')"
   ]
  },
  {
   "cell_type": "markdown",
   "id": "542eb39a",
   "metadata": {},
   "source": [
    "Те же действия через PipeLine"
   ]
  },
  {
   "cell_type": "code",
   "execution_count": 320,
   "id": "d2c67dab",
   "metadata": {},
   "outputs": [],
   "source": [
    "dataset_pl = dataset_source.select('*')"
   ]
  },
  {
   "cell_type": "code",
   "execution_count": 321,
   "id": "8cd08f1e",
   "metadata": {},
   "outputs": [
    {
     "name": "stderr",
     "output_type": "stream",
     "text": [
      "                                                                                \r"
     ]
    }
   ],
   "source": [
    "# Создаем PipeLine, с помощью которого формируем вектора для модели.\n",
    "si_cg = StringIndexer(inputCol = 'CODE_GENDER', outputCol = 'CODE_GENDER_si')\n",
    "si_foc = StringIndexer(inputCol = 'FLAG_OWN_CAR', outputCol = 'FLAG_OWN_CAR_si')\n",
    "si_for = StringIndexer(inputCol = 'FLAG_OWN_REALTY', outputCol = 'FLAG_OWN_REALTY_si')\n",
    "va = VectorAssembler(inputCols = ['AMT_INCOME_TOTAL', 'CNT_CHILDREN', 'CODE_GENDER_si', 'FLAG_OWN_CAR_si', 'FLAG_OWN_REALTY_si'],\n",
    "                     outputCol = 'pre_features')\n",
    "mms = MinMaxScaler(inputCol = va.getOutputCol(), outputCol = 'features')\n",
    "\n",
    "pipe = Pipeline(stages = [si_cg, si_foc, si_for, va, mms])\n",
    "pipe = pipe.fit(dataset_pl)\n",
    "dataset_pl = pipe.transform(dataset_pl)\n",
    "dataset_pl = dataset_pl.select('AMT_INCOME_TOTAL', 'CNT_CHILDREN', 'CODE_GENDER_si', 'FLAG_OWN_CAR_si', 'FLAG_OWN_REALTY_si', \n",
    "                               'pre_features', F.col('TARGET').alias('label'), 'features')"
   ]
  },
  {
   "cell_type": "code",
   "execution_count": 324,
   "id": "c0202871",
   "metadata": {},
   "outputs": [],
   "source": [
    "# Разделим выборку на трейн и тест, на трейн будем обучать модель, на тест валидировать.\n",
    "train_pl, test_pl = dataset_pl.randomSplit([0.7, 0.3])"
   ]
  },
  {
   "cell_type": "code",
   "execution_count": 325,
   "id": "fed3d14b",
   "metadata": {},
   "outputs": [
    {
     "name": "stderr",
     "output_type": "stream",
     "text": [
      "                                                                                \r"
     ]
    },
    {
     "name": "stdout",
     "output_type": "stream",
     "text": [
      "Точность модели на трейне 0.5559549684415218, на тесте 0.5477153996955326\n"
     ]
    }
   ],
   "source": [
    "# Создаем модель.\n",
    "lr = LogisticRegression()\n",
    "lr = lr.fit(train_pl)\n",
    "train_pl = lr.transform(train_pl) \n",
    "test_pl = lr.transform(test_pl)\n",
    "\n",
    "# Считаем score.\n",
    "evaluator = BinaryClassificationEvaluator()\n",
    "evaluator = BinaryClassificationEvaluator()\n",
    "train_pl_score, test_pl_score = evaluator.evaluate(train_pl), evaluator.evaluate(test_pl)\n",
    "print(f'Точность модели на трейне {train_pl_score}, на тесте {test_pl_score}')"
   ]
  },
  {
   "cell_type": "code",
   "execution_count": 326,
   "id": "47e43920",
   "metadata": {},
   "outputs": [
    {
     "name": "stderr",
     "output_type": "stream",
     "text": [
      "                                                                                \r"
     ]
    },
    {
     "data": {
      "text/plain": [
       "0"
      ]
     },
     "execution_count": 326,
     "metadata": {},
     "output_type": "execute_result"
    }
   ],
   "source": [
    "train_pl.filter(F.col('prediction') == 1.0).count()"
   ]
  },
  {
   "cell_type": "code",
   "execution_count": 327,
   "id": "c5813045",
   "metadata": {},
   "outputs": [
    {
     "name": "stderr",
     "output_type": "stream",
     "text": [
      "                                                                                \r"
     ]
    },
    {
     "data": {
      "text/plain": [
       "0"
      ]
     },
     "execution_count": 327,
     "metadata": {},
     "output_type": "execute_result"
    }
   ],
   "source": [
    "test_pl.filter(F.col('prediction') == 1.0).count()"
   ]
  },
  {
   "cell_type": "code",
   "execution_count": null,
   "id": "3796b9f3",
   "metadata": {},
   "outputs": [],
   "source": []
  }
 ],
 "metadata": {
  "kernelspec": {
   "display_name": "Python 3 (ipykernel)",
   "language": "python",
   "name": "python3"
  },
  "language_info": {
   "codemirror_mode": {
    "name": "ipython",
    "version": 3
   },
   "file_extension": ".py",
   "mimetype": "text/x-python",
   "name": "python",
   "nbconvert_exporter": "python",
   "pygments_lexer": "ipython3",
   "version": "3.9.6"
  }
 },
 "nbformat": 4,
 "nbformat_minor": 5
}
