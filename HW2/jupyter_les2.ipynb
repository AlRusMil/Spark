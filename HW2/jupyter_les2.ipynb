{
 "cells": [
  {
   "cell_type": "code",
   "execution_count": 250,
   "id": "fa505027",
   "metadata": {},
   "outputs": [
    {
     "data": {
      "text/html": [
       "<style>.container { width:100% !important; }</style>"
      ],
      "text/plain": [
       "<IPython.core.display.HTML object>"
      ]
     },
     "metadata": {},
     "output_type": "display_data"
    },
    {
     "data": {
      "text/html": [
       "<style>.output_result { max-width:100% !important; }</style>"
      ],
      "text/plain": [
       "<IPython.core.display.HTML object>"
      ]
     },
     "metadata": {},
     "output_type": "display_data"
    }
   ],
   "source": [
    "from IPython.core.display import display, HTML\n",
    "display(HTML(\"<style>.container { width:100% !important; }</style>\"))\n",
    "display(HTML(\"<style>.output_result { max-width:100% !important; }</style>\"))"
   ]
  },
  {
   "cell_type": "code",
   "execution_count": 251,
   "id": "658d91fb",
   "metadata": {},
   "outputs": [
    {
     "name": "stdout",
     "output_type": "stream",
     "text": [
      "Requirement already satisfied: pyspark in /usr/local/spark-3.1.2-bin-hadoop3.2/python (3.1.2)\r\n",
      "Requirement already satisfied: py4j==0.10.9 in /opt/conda/lib/python3.9/site-packages (from pyspark) (0.10.9)\r\n"
     ]
    }
   ],
   "source": [
    "!pip install pyspark"
   ]
  },
  {
   "cell_type": "code",
   "execution_count": 253,
   "id": "0bbc168d",
   "metadata": {},
   "outputs": [],
   "source": [
    "from pyspark.sql import SparkSession\n",
    "\n",
    "spark = SparkSession.builder\\\n",
    "        .master('local[4]')\\\n",
    "        .appName('Lesson_2')\\\n",
    "        .config('spark.ui.port', '4050')\\\n",
    "        .config('spark.executor.instances', 2)\\\n",
    "        .config('spark.executor.memory', '5g')\\\n",
    "        .config('spark.executor.cores', 2)\\\n",
    "        .getOrCreate()\n",
    "\n",
    "sc = spark.sparkContext"
   ]
  },
  {
   "cell_type": "code",
   "execution_count": 254,
   "id": "ed47a59a",
   "metadata": {},
   "outputs": [
    {
     "data": {
      "text/html": [
       "\n",
       "            <div>\n",
       "                <p><b>SparkSession - in-memory</b></p>\n",
       "                \n",
       "        <div>\n",
       "            <p><b>SparkContext</b></p>\n",
       "\n",
       "            <p><a href=\"http://32dc00122e10:4050\">Spark UI</a></p>\n",
       "\n",
       "            <dl>\n",
       "              <dt>Version</dt>\n",
       "                <dd><code>v3.1.2</code></dd>\n",
       "              <dt>Master</dt>\n",
       "                <dd><code>local[4]</code></dd>\n",
       "              <dt>AppName</dt>\n",
       "                <dd><code>Lesson_2</code></dd>\n",
       "            </dl>\n",
       "        </div>\n",
       "        \n",
       "            </div>\n",
       "        "
      ],
      "text/plain": [
       "<pyspark.sql.session.SparkSession at 0x7f4fd09b2580>"
      ]
     },
     "execution_count": 254,
     "metadata": {},
     "output_type": "execute_result"
    }
   ],
   "source": [
    "spark"
   ]
  },
  {
   "cell_type": "markdown",
   "id": "32c640b0",
   "metadata": {},
   "source": [
    "# Самостоятельная работа\n"
   ]
  },
  {
   "cell_type": "markdown",
   "id": "d9f7c1ad",
   "metadata": {},
   "source": [
    "Требуется выяснить:\n",
    "\n",
    "1. Какое соотношение сторон экрана телефона самое популярное,\n",
    "2. Плотность пикселей у экрана.\n",
    "Можно использовать только rdd.\n",
    "\n",
    "Всего 8 баллов."
   ]
  },
  {
   "cell_type": "markdown",
   "id": "539862f3",
   "metadata": {},
   "source": [
    "# Считывание данных"
   ]
  },
  {
   "cell_type": "markdown",
   "id": "a7f90cbf",
   "metadata": {},
   "source": [
    "Данные взяты отсюда: https://www.kaggle.com/iabhishekofficial/mobile-price-classification Скачиваем и копируем в папку с нотебуком\n",
    "\n",
    "Внутри содержится следующая информация:\n",
    "\n",
    "* id: ID\n",
    "* battery_power: Total energy a battery can store in one time (mAh)\n",
    "* blue: Support bluetooth or not\n",
    "* clock_speed: Speed at which microprocessor executes instructions\n",
    "* dual_sim: Support dual sim or not\n",
    "* fc: Front Camera mega pixels\n",
    "* four_g: Support 4G or not\n",
    "* int_memory: Internal Memory (GB)\n",
    "* m_dep: Mobile Depth (cm)\n",
    "* mobile_wt: Weight of mobile phone\n",
    "* n_cores: Number of cores of processor\n",
    "* pc: Primary Camera mega pixels\n",
    "* px_height: Pixel Resolution Height\n",
    "* px_width: Pixel Resolution Width\n",
    "* ram: Random Access Memory (MB)\n",
    "* sc_h: Screen Height of mobile (cm)\n",
    "* sc_w: Screen Width of mobile (cm)\n",
    "* talk_time: Time that a single battery charge will last\n",
    "* three_g: Support 3G or not\n",
    "* touch_screen: Has touch screen or not\n",
    "* wifi: Support wifi or not"
   ]
  },
  {
   "cell_type": "code",
   "execution_count": 618,
   "id": "a28c82cd",
   "metadata": {},
   "outputs": [],
   "source": [
    "# Вспомогательная функция\n",
    "\n",
    "def beautiful_print(rdd, num, title):\n",
    "    print(title)\n",
    "    for row in rdd.take(num):\n",
    "        print('\\t', row)"
   ]
  },
  {
   "cell_type": "code",
   "execution_count": 619,
   "id": "5456144d",
   "metadata": {},
   "outputs": [],
   "source": [
    "train = sc.textFile('./train.csv')\n",
    "test = sc.textFile('./test.csv')"
   ]
  },
  {
   "cell_type": "code",
   "execution_count": 620,
   "id": "62b47d20",
   "metadata": {},
   "outputs": [
    {
     "data": {
      "text/plain": [
       "['battery_power,blue,clock_speed,dual_sim,fc,four_g,int_memory,m_dep,mobile_wt,n_cores,pc,px_height,px_width,ram,sc_h,sc_w,talk_time,three_g,touch_screen,wifi,price_range',\n",
       " '842,0,2.2,0,1,0,7,0.6,188,2,2,20,756,2549,9,7,19,0,0,1,1',\n",
       " '1021,1,0.5,1,0,1,53,0.7,136,3,6,905,1988,2631,17,3,7,1,1,0,2',\n",
       " '563,1,0.5,1,2,1,41,0.9,145,5,6,1263,1716,2603,11,2,9,1,1,0,2',\n",
       " '615,1,2.5,0,0,0,10,0.8,131,6,9,1216,1786,2769,16,8,11,1,0,0,2']"
      ]
     },
     "execution_count": 620,
     "metadata": {},
     "output_type": "execute_result"
    }
   ],
   "source": [
    "# Выведите содержимое каждого файла (часть строк) (1 балл)\n",
    "train.take(5)"
   ]
  },
  {
   "cell_type": "code",
   "execution_count": 621,
   "id": "23445fb4",
   "metadata": {},
   "outputs": [
    {
     "data": {
      "text/plain": [
       "['id,battery_power,blue,clock_speed,dual_sim,fc,four_g,int_memory,m_dep,mobile_wt,n_cores,pc,px_height,px_width,ram,sc_h,sc_w,talk_time,three_g,touch_screen,wifi',\n",
       " '1,1043,1,1.8,1,14,0,5,0.1,193,3,16,226,1412,3476,12,7,2,0,1,0',\n",
       " '2,841,1,0.5,1,4,1,61,0.8,191,5,12,746,857,3895,6,0,7,1,0,0',\n",
       " '3,1807,1,2.8,0,1,0,27,0.9,186,3,4,1270,1366,2396,17,10,10,0,1,1',\n",
       " '4,1546,0,0.5,1,18,1,25,0.5,96,8,20,295,1752,3893,10,0,7,1,1,0']"
      ]
     },
     "execution_count": 621,
     "metadata": {},
     "output_type": "execute_result"
    }
   ],
   "source": [
    "test.take(5)"
   ]
  },
  {
   "cell_type": "markdown",
   "id": "151bcc66",
   "metadata": {},
   "source": [
    "## Преобразуем train и test"
   ]
  },
  {
   "cell_type": "code",
   "execution_count": 622,
   "id": "ad116861",
   "metadata": {},
   "outputs": [],
   "source": [
    "train_first_row = train.first()\n",
    "\n",
    "train = train\\\n",
    "    .filter(lambda row: row != train_first_row)\\\n",
    "    .map(lambda row: [float(el) for el in row.split(',')])"
   ]
  },
  {
   "cell_type": "code",
   "execution_count": 623,
   "id": "4c024933",
   "metadata": {},
   "outputs": [
    {
     "name": "stdout",
     "output_type": "stream",
     "text": [
      "Train\n",
      "\t [842.0, 0.0, 2.2, 0.0, 1.0, 0.0, 7.0, 0.6, 188.0, 2.0, 2.0, 20.0, 756.0, 2549.0, 9.0, 7.0, 19.0, 0.0, 0.0, 1.0, 1.0]\n",
      "\t [1021.0, 1.0, 0.5, 1.0, 0.0, 1.0, 53.0, 0.7, 136.0, 3.0, 6.0, 905.0, 1988.0, 2631.0, 17.0, 3.0, 7.0, 1.0, 1.0, 0.0, 2.0]\n",
      "\t [563.0, 1.0, 0.5, 1.0, 2.0, 1.0, 41.0, 0.9, 145.0, 5.0, 6.0, 1263.0, 1716.0, 2603.0, 11.0, 2.0, 9.0, 1.0, 1.0, 0.0, 2.0]\n"
     ]
    }
   ],
   "source": [
    "# train.take(3)\n",
    "beautiful_print(train, 3, 'Train')"
   ]
  },
  {
   "cell_type": "code",
   "execution_count": 624,
   "id": "5407296f",
   "metadata": {},
   "outputs": [],
   "source": [
    "# Преобразуйте test (1 балл)\n",
    "test_first_row = test.first()\n",
    "\n",
    "test = test\\\n",
    "    .filter(lambda row: row != test_first_row)\\\n",
    "    .map(lambda row: [float(el) for el in row.split(',')])"
   ]
  },
  {
   "cell_type": "code",
   "execution_count": 625,
   "id": "d3802a46",
   "metadata": {},
   "outputs": [
    {
     "name": "stdout",
     "output_type": "stream",
     "text": [
      "Test\n",
      "\t [1.0, 1043.0, 1.0, 1.8, 1.0, 14.0, 0.0, 5.0, 0.1, 193.0, 3.0, 16.0, 226.0, 1412.0, 3476.0, 12.0, 7.0, 2.0, 0.0, 1.0, 0.0]\n",
      "\t [2.0, 841.0, 1.0, 0.5, 1.0, 4.0, 1.0, 61.0, 0.8, 191.0, 5.0, 12.0, 746.0, 857.0, 3895.0, 6.0, 0.0, 7.0, 1.0, 0.0, 0.0]\n",
      "\t [3.0, 1807.0, 1.0, 2.8, 0.0, 1.0, 0.0, 27.0, 0.9, 186.0, 3.0, 4.0, 1270.0, 1366.0, 2396.0, 17.0, 10.0, 10.0, 0.0, 1.0, 1.0]\n"
     ]
    }
   ],
   "source": [
    "# test.take(3)\n",
    "beautiful_print(test, 3, 'Test')"
   ]
  },
  {
   "cell_type": "markdown",
   "id": "6c7b7857",
   "metadata": {},
   "source": [
    "## Объединим train и test\n",
    "Найти нужную функцию можно [здесь](https://spark.apache.org/docs/3.1.1/api/python/reference/pyspark.html#rdd-apis)\n",
    "\n",
    "PS: нужно сделать средсвтвами rdd pd.concat([train, test,], axis=0)"
   ]
  },
  {
   "cell_type": "code",
   "execution_count": 627,
   "id": "81012da2",
   "metadata": {},
   "outputs": [
    {
     "data": {
      "text/plain": [
       "'battery_power,blue,clock_speed,dual_sim,fc,four_g,int_memory,m_dep,mobile_wt,n_cores,pc,px_height,px_width,ram,sc_h,sc_w,talk_time,three_g,touch_screen,wifi,price_range'"
      ]
     },
     "execution_count": 627,
     "metadata": {},
     "output_type": "execute_result"
    }
   ],
   "source": [
    "train_first_row"
   ]
  },
  {
   "cell_type": "code",
   "execution_count": 628,
   "id": "279be4dd",
   "metadata": {},
   "outputs": [
    {
     "data": {
      "text/plain": [
       "'id,battery_power,blue,clock_speed,dual_sim,fc,four_g,int_memory,m_dep,mobile_wt,n_cores,pc,px_height,px_width,ram,sc_h,sc_w,talk_time,three_g,touch_screen,wifi'"
      ]
     },
     "execution_count": 628,
     "metadata": {},
     "output_type": "execute_result"
    }
   ],
   "source": [
    "test_first_row"
   ]
  },
  {
   "cell_type": "code",
   "execution_count": 629,
   "id": "7b5cabc2",
   "metadata": {},
   "outputs": [],
   "source": [
    "# Находим одинаковые колонки в обоих наборах данных\n",
    "identical_columns = set(train_first_row.split(',')) & set(test_first_row.split(','))\n",
    "\n",
    "# Вычисляем номера столбцов, которые различаются\n",
    "train_excess_cols = [x[0] for x in enumerate(train_first_row.split(',')) if x[1] not in identical_columns] \n",
    "test_excess_cols = [x[0] for x in enumerate(test_first_row.split(',')) if x[1] not in identical_columns]\n",
    "\n",
    "# Формируем новый заголовок, сохраняя первоначальный порядок следования столбцов\n",
    "data_header = [el for el in train_first_row.split(',') if el in identical_columns]\n",
    "data_header = ','.join(data_header)"
   ]
  },
  {
   "cell_type": "code",
   "execution_count": 630,
   "id": "45095f38",
   "metadata": {},
   "outputs": [],
   "source": [
    "# Объедините train и test (2 балла)\n",
    "data = train.map(lambda row: [x[1] for x in enumerate(row) if x[0] not in train_excess_cols]) \\\n",
    "       .union(test.map(lambda row: [x[1] for x in enumerate(row) if x[0] not in test_excess_cols]))"
   ]
  },
  {
   "cell_type": "code",
   "execution_count": 631,
   "id": "97bd70e0",
   "metadata": {},
   "outputs": [
    {
     "data": {
      "text/plain": [
       "'battery_power,blue,clock_speed,dual_sim,fc,four_g,int_memory,m_dep,mobile_wt,n_cores,pc,px_height,px_width,ram,sc_h,sc_w,talk_time,three_g,touch_screen,wifi'"
      ]
     },
     "execution_count": 631,
     "metadata": {},
     "output_type": "execute_result"
    }
   ],
   "source": [
    "data_header"
   ]
  },
  {
   "cell_type": "code",
   "execution_count": 633,
   "id": "2485baee",
   "metadata": {
    "scrolled": true
   },
   "outputs": [
    {
     "name": "stdout",
     "output_type": "stream",
     "text": [
      "Data\n",
      "\t [842.0, 0.0, 2.2, 0.0, 1.0, 0.0, 7.0, 0.6, 188.0, 2.0, 2.0, 20.0, 756.0, 2549.0, 9.0, 7.0, 19.0, 0.0, 0.0, 1.0]\n",
      "\t [1021.0, 1.0, 0.5, 1.0, 0.0, 1.0, 53.0, 0.7, 136.0, 3.0, 6.0, 905.0, 1988.0, 2631.0, 17.0, 3.0, 7.0, 1.0, 1.0, 0.0]\n",
      "\t [563.0, 1.0, 0.5, 1.0, 2.0, 1.0, 41.0, 0.9, 145.0, 5.0, 6.0, 1263.0, 1716.0, 2603.0, 11.0, 2.0, 9.0, 1.0, 1.0, 0.0]\n"
     ]
    }
   ],
   "source": [
    "beautiful_print(data, 3, 'Data')"
   ]
  },
  {
   "cell_type": "code",
   "execution_count": 634,
   "id": "616879dd",
   "metadata": {},
   "outputs": [
    {
     "data": {
      "text/plain": [
       "2000"
      ]
     },
     "execution_count": 634,
     "metadata": {},
     "output_type": "execute_result"
    }
   ],
   "source": [
    "train.count()"
   ]
  },
  {
   "cell_type": "code",
   "execution_count": 635,
   "id": "48baa0d8",
   "metadata": {},
   "outputs": [
    {
     "data": {
      "text/plain": [
       "1000"
      ]
     },
     "execution_count": 635,
     "metadata": {},
     "output_type": "execute_result"
    }
   ],
   "source": [
    "test.count()"
   ]
  },
  {
   "cell_type": "code",
   "execution_count": 640,
   "id": "4592f32c",
   "metadata": {
    "scrolled": true
   },
   "outputs": [
    {
     "name": "stderr",
     "output_type": "stream",
     "text": [
      "\r",
      "[Stage 494:==========================================>              (3 + 1) / 4]\r",
      "\r",
      "                                                                                \r"
     ]
    },
    {
     "data": {
      "text/plain": [
       "3000"
      ]
     },
     "execution_count": 640,
     "metadata": {},
     "output_type": "execute_result"
    }
   ],
   "source": [
    "data.count()"
   ]
  },
  {
   "cell_type": "markdown",
   "id": "25bfd314",
   "metadata": {},
   "source": [
    "## Рассчитайте соотношение сторон телефона и экрана"
   ]
  },
  {
   "cell_type": "code",
   "execution_count": 641,
   "id": "41e13bbf",
   "metadata": {},
   "outputs": [
    {
     "name": "stderr",
     "output_type": "stream",
     "text": [
      "                                                                                \r"
     ]
    },
    {
     "data": {
      "text/plain": [
       "defaultdict(int,\n",
       "            {1.06: 46,\n",
       "             1.07: 17,\n",
       "             1.08: 28,\n",
       "             1.09: 16,\n",
       "             1.1: 26,\n",
       "             1.11: 14,\n",
       "             1.12: 35,\n",
       "             1.13: 15,\n",
       "             1.14: 37,\n",
       "             1.15: 16,\n",
       "             1.17: 47,\n",
       "             1.18: 14,\n",
       "             1.19: 8,\n",
       "             1.2: 69,\n",
       "             1.21: 17,\n",
       "             1.22: 25,\n",
       "             1.23: 13,\n",
       "             1.25: 56,\n",
       "             1.27: 27,\n",
       "             1.29: 26,\n",
       "             1.3: 20,\n",
       "             1.31: 13,\n",
       "             1.33: 54,\n",
       "             1.36: 22,\n",
       "             1.38: 29,\n",
       "             1.4: 59,\n",
       "             1.42: 12,\n",
       "             1.43: 17,\n",
       "             1.44: 12,\n",
       "             1.45: 18,\n",
       "             1.46: 10,\n",
       "             1.5: 89,\n",
       "             1.55: 14,\n",
       "             1.56: 19,\n",
       "             1.57: 15,\n",
       "             1.58: 10,\n",
       "             1.6: 32,\n",
       "             1.62: 8,\n",
       "             1.64: 12,\n",
       "             1.67: 68,\n",
       "             1.7: 16,\n",
       "             1.71: 26,\n",
       "             1.73: 8,\n",
       "             1.75: 48,\n",
       "             1.78: 8,\n",
       "             1.8: 33,\n",
       "             1.83: 13,\n",
       "             1.86: 17,\n",
       "             1.88: 15,\n",
       "             1.89: 13,\n",
       "             1.9: 15,\n",
       "             2.0: 123,\n",
       "             2.11: 9,\n",
       "             2.12: 17,\n",
       "             2.14: 13,\n",
       "             2.17: 20,\n",
       "             2.2: 21,\n",
       "             2.25: 34,\n",
       "             2.29: 12,\n",
       "             2.33: 46,\n",
       "             2.38: 11,\n",
       "             2.4: 13,\n",
       "             2.43: 20,\n",
       "             2.5: 66,\n",
       "             2.57: 16,\n",
       "             2.6: 17,\n",
       "             2.67: 29,\n",
       "             2.71: 7,\n",
       "             2.75: 12,\n",
       "             2.8: 12,\n",
       "             2.83: 18,\n",
       "             3.0: 100,\n",
       "             3.17: 9,\n",
       "             3.2: 15,\n",
       "             3.25: 16,\n",
       "             3.33: 14,\n",
       "             3.4: 10,\n",
       "             3.5: 35,\n",
       "             3.6: 10,\n",
       "             3.67: 14,\n",
       "             3.75: 11,\n",
       "             3.8: 4,\n",
       "             4.0: 50,\n",
       "             4.25: 18,\n",
       "             4.33: 17,\n",
       "             4.5: 37,\n",
       "             4.67: 14,\n",
       "             4.75: 8,\n",
       "             5.0: 68,\n",
       "             5.33: 13,\n",
       "             5.5: 19,\n",
       "             5.67: 14,\n",
       "             6.0: 70,\n",
       "             6.33: 15,\n",
       "             6.5: 12,\n",
       "             7.0: 43,\n",
       "             7.5: 14,\n",
       "             8.0: 34,\n",
       "             8.5: 15,\n",
       "             9.0: 31,\n",
       "             9.5: 9,\n",
       "             10.0: 26,\n",
       "             11.0: 19,\n",
       "             12.0: 16,\n",
       "             13.0: 14,\n",
       "             14.0: 19,\n",
       "             15.0: 11,\n",
       "             16.0: 14,\n",
       "             17.0: 18,\n",
       "             18.0: 9,\n",
       "             19.0: 10})"
      ]
     },
     "execution_count": 641,
     "metadata": {},
     "output_type": "execute_result"
    }
   ],
   "source": [
    "# Выведите отсортированное распределение соотношений сторон экрана(1 балла)\n",
    "# в разрезе широкоформатные или нет (экран широкоформатный, если соотногшение >=16:9)\n",
    "\n",
    "# Определяем номера столбцов с шириной и высотой экрана\n",
    "sc_w = [x[0] for x in enumerate(data_header.split(',')) if x[1] == 'sc_w'][0]\n",
    "sc_h = [x[0] for x in enumerate(data_header.split(',')) if x[1] == 'sc_h'][0]\n",
    "\n",
    "# Убираем те записи, в которых ширина или высота экрана нулевая\n",
    "data = data.filter(lambda row: row[sc_w] != 0)\n",
    "data = data.filter(lambda row: row[sc_h] != 0)\n",
    "\n",
    "# Производим вычисление сторон. \n",
    "# Насколько мне понятно, в случае с телефоном соотношение рассчитывается как отношение высоты к ширине экрана\n",
    "screen_aspect_ratio = data.map(lambda row: (round(row[sc_h] / row[sc_w], 2), 1)).sortByKey().countByKey()\n",
    "screen_aspect_ratio"
   ]
  },
  {
   "cell_type": "code",
   "execution_count": 642,
   "id": "abb1af8a",
   "metadata": {},
   "outputs": [
    {
     "data": {
      "text/plain": [
       "[(2.0, 123),\n",
       " (3.0, 100),\n",
       " (6.0, 70),\n",
       " (5.0, 68),\n",
       " (2.5, 66),\n",
       " (4.0, 50),\n",
       " (2.33, 46),\n",
       " (7.0, 43),\n",
       " (4.5, 37),\n",
       " (3.5, 35),\n",
       " (2.25, 34),\n",
       " (8.0, 34),\n",
       " (1.8, 33),\n",
       " (9.0, 31),\n",
       " (2.67, 29),\n",
       " (10.0, 26),\n",
       " (2.2, 21),\n",
       " (2.17, 20),\n",
       " (2.43, 20),\n",
       " (5.5, 19),\n",
       " (11.0, 19),\n",
       " (14.0, 19),\n",
       " (2.83, 18),\n",
       " (4.25, 18),\n",
       " (17.0, 18),\n",
       " (1.86, 17),\n",
       " (2.12, 17),\n",
       " (2.6, 17),\n",
       " (4.33, 17),\n",
       " (2.57, 16),\n",
       " (3.25, 16),\n",
       " (12.0, 16),\n",
       " (1.88, 15),\n",
       " (1.9, 15),\n",
       " (3.2, 15),\n",
       " (6.33, 15),\n",
       " (8.5, 15),\n",
       " (3.33, 14),\n",
       " (3.67, 14),\n",
       " (4.67, 14),\n",
       " (5.67, 14),\n",
       " (7.5, 14),\n",
       " (13.0, 14),\n",
       " (16.0, 14),\n",
       " (1.83, 13),\n",
       " (1.89, 13),\n",
       " (2.14, 13),\n",
       " (2.4, 13),\n",
       " (5.33, 13),\n",
       " (2.29, 12),\n",
       " (2.75, 12),\n",
       " (2.8, 12),\n",
       " (6.5, 12),\n",
       " (2.38, 11),\n",
       " (3.75, 11),\n",
       " (15.0, 11),\n",
       " (3.4, 10),\n",
       " (3.6, 10),\n",
       " (19.0, 10),\n",
       " (2.11, 9),\n",
       " (3.17, 9),\n",
       " (9.5, 9),\n",
       " (18.0, 9),\n",
       " (1.78, 8),\n",
       " (4.75, 8),\n",
       " (2.71, 7),\n",
       " (3.8, 4)]"
      ]
     },
     "execution_count": 642,
     "metadata": {},
     "output_type": "execute_result"
    }
   ],
   "source": [
    "# Сделаем второй словарь, в котором оставим только широкоформатные модели (ключ >= 1.78)\n",
    "# Отсортируем соотношения сторон по количеству моделей (по значению)\n",
    "widescreen = {x[0]: x[1] for x in screen_aspect_ratio.items() if x[0] >= 1.78}\n",
    "widescreen = sorted(widescreen.items(), key=lambda item: item[1], reverse=True)\n",
    "widescreen"
   ]
  },
  {
   "cell_type": "code",
   "execution_count": 643,
   "id": "1ce84485",
   "metadata": {},
   "outputs": [
    {
     "name": "stderr",
     "output_type": "stream",
     "text": [
      "                                                                                \r"
     ]
    },
    {
     "data": {
      "text/plain": [
       "defaultdict(int,\n",
       "            {56.0: 1,\n",
       "             61.0: 3,\n",
       "             63.0: 1,\n",
       "             64.0: 1,\n",
       "             65.0: 1,\n",
       "             67.0: 2,\n",
       "             68.0: 1,\n",
       "             69.0: 1,\n",
       "             70.0: 1,\n",
       "             71.0: 1,\n",
       "             72.0: 2,\n",
       "             73.0: 2,\n",
       "             74.0: 2,\n",
       "             76.0: 2,\n",
       "             77.0: 1,\n",
       "             78.0: 2,\n",
       "             79.0: 6,\n",
       "             80.0: 5,\n",
       "             81.0: 3,\n",
       "             82.0: 6,\n",
       "             83.0: 8,\n",
       "             84.0: 6,\n",
       "             85.0: 4,\n",
       "             86.0: 3,\n",
       "             87.0: 8,\n",
       "             88.0: 5,\n",
       "             89.0: 5,\n",
       "             90.0: 4,\n",
       "             91.0: 3,\n",
       "             92.0: 5,\n",
       "             93.0: 6,\n",
       "             94.0: 3,\n",
       "             95.0: 4,\n",
       "             96.0: 7,\n",
       "             97.0: 5,\n",
       "             98.0: 2,\n",
       "             99.0: 5,\n",
       "             100.0: 5,\n",
       "             101.0: 4,\n",
       "             102.0: 7,\n",
       "             103.0: 6,\n",
       "             104.0: 3,\n",
       "             105.0: 6,\n",
       "             106.0: 3,\n",
       "             107.0: 5,\n",
       "             108.0: 2,\n",
       "             109.0: 6,\n",
       "             110.0: 8,\n",
       "             111.0: 5,\n",
       "             112.0: 8,\n",
       "             113.0: 3,\n",
       "             114.0: 7,\n",
       "             115.0: 5,\n",
       "             116.0: 6,\n",
       "             117.0: 8,\n",
       "             118.0: 8,\n",
       "             119.0: 6,\n",
       "             120.0: 7,\n",
       "             121.0: 11,\n",
       "             122.0: 13,\n",
       "             123.0: 6,\n",
       "             124.0: 7,\n",
       "             125.0: 7,\n",
       "             126.0: 6,\n",
       "             127.0: 8,\n",
       "             128.0: 12,\n",
       "             129.0: 5,\n",
       "             130.0: 2,\n",
       "             131.0: 4,\n",
       "             132.0: 10,\n",
       "             133.0: 8,\n",
       "             134.0: 4,\n",
       "             135.0: 7,\n",
       "             136.0: 8,\n",
       "             137.0: 12,\n",
       "             138.0: 13,\n",
       "             139.0: 10,\n",
       "             140.0: 8,\n",
       "             141.0: 3,\n",
       "             142.0: 5,\n",
       "             143.0: 8,\n",
       "             144.0: 10,\n",
       "             145.0: 8,\n",
       "             146.0: 3,\n",
       "             147.0: 7,\n",
       "             148.0: 5,\n",
       "             149.0: 5,\n",
       "             150.0: 10,\n",
       "             151.0: 10,\n",
       "             152.0: 5,\n",
       "             153.0: 9,\n",
       "             154.0: 9,\n",
       "             155.0: 7,\n",
       "             156.0: 7,\n",
       "             157.0: 9,\n",
       "             158.0: 9,\n",
       "             159.0: 5,\n",
       "             160.0: 3,\n",
       "             161.0: 6,\n",
       "             162.0: 10,\n",
       "             163.0: 5,\n",
       "             164.0: 5,\n",
       "             165.0: 9,\n",
       "             166.0: 11,\n",
       "             167.0: 7,\n",
       "             168.0: 9,\n",
       "             169.0: 11,\n",
       "             170.0: 5,\n",
       "             171.0: 11,\n",
       "             172.0: 10,\n",
       "             173.0: 7,\n",
       "             174.0: 10,\n",
       "             175.0: 9,\n",
       "             176.0: 13,\n",
       "             177.0: 2,\n",
       "             178.0: 5,\n",
       "             179.0: 7,\n",
       "             180.0: 12,\n",
       "             181.0: 11,\n",
       "             182.0: 11,\n",
       "             183.0: 10,\n",
       "             184.0: 8,\n",
       "             185.0: 11,\n",
       "             186.0: 7,\n",
       "             187.0: 6,\n",
       "             188.0: 12,\n",
       "             189.0: 7,\n",
       "             190.0: 9,\n",
       "             191.0: 7,\n",
       "             192.0: 7,\n",
       "             193.0: 9,\n",
       "             194.0: 5,\n",
       "             195.0: 7,\n",
       "             196.0: 9,\n",
       "             197.0: 14,\n",
       "             198.0: 11,\n",
       "             199.0: 13,\n",
       "             200.0: 10,\n",
       "             201.0: 10,\n",
       "             202.0: 9,\n",
       "             203.0: 8,\n",
       "             204.0: 9,\n",
       "             205.0: 11,\n",
       "             206.0: 12,\n",
       "             207.0: 6,\n",
       "             208.0: 10,\n",
       "             209.0: 17,\n",
       "             210.0: 11,\n",
       "             211.0: 3,\n",
       "             212.0: 8,\n",
       "             213.0: 6,\n",
       "             214.0: 11,\n",
       "             215.0: 10,\n",
       "             216.0: 3,\n",
       "             217.0: 4,\n",
       "             218.0: 6,\n",
       "             219.0: 8,\n",
       "             220.0: 10,\n",
       "             221.0: 12,\n",
       "             222.0: 6,\n",
       "             223.0: 5,\n",
       "             224.0: 9,\n",
       "             225.0: 15,\n",
       "             226.0: 9,\n",
       "             227.0: 10,\n",
       "             228.0: 9,\n",
       "             229.0: 9,\n",
       "             230.0: 10,\n",
       "             231.0: 8,\n",
       "             232.0: 6,\n",
       "             233.0: 7,\n",
       "             234.0: 3,\n",
       "             235.0: 9,\n",
       "             236.0: 10,\n",
       "             237.0: 6,\n",
       "             238.0: 9,\n",
       "             239.0: 6,\n",
       "             240.0: 6,\n",
       "             241.0: 6,\n",
       "             242.0: 12,\n",
       "             243.0: 3,\n",
       "             244.0: 8,\n",
       "             245.0: 9,\n",
       "             246.0: 12,\n",
       "             247.0: 5,\n",
       "             248.0: 6,\n",
       "             249.0: 11,\n",
       "             250.0: 10,\n",
       "             251.0: 5,\n",
       "             252.0: 4,\n",
       "             253.0: 8,\n",
       "             254.0: 3,\n",
       "             255.0: 10,\n",
       "             256.0: 7,\n",
       "             257.0: 2,\n",
       "             258.0: 15,\n",
       "             259.0: 8,\n",
       "             260.0: 5,\n",
       "             261.0: 7,\n",
       "             262.0: 10,\n",
       "             263.0: 7,\n",
       "             264.0: 5,\n",
       "             265.0: 12,\n",
       "             266.0: 6,\n",
       "             267.0: 6,\n",
       "             268.0: 6,\n",
       "             269.0: 7,\n",
       "             270.0: 6,\n",
       "             271.0: 5,\n",
       "             272.0: 8,\n",
       "             273.0: 9,\n",
       "             274.0: 6,\n",
       "             275.0: 5,\n",
       "             276.0: 7,\n",
       "             277.0: 8,\n",
       "             278.0: 6,\n",
       "             279.0: 6,\n",
       "             280.0: 4,\n",
       "             281.0: 6,\n",
       "             282.0: 9,\n",
       "             283.0: 8,\n",
       "             284.0: 4,\n",
       "             285.0: 11,\n",
       "             287.0: 7,\n",
       "             288.0: 6,\n",
       "             289.0: 8,\n",
       "             290.0: 5,\n",
       "             291.0: 6,\n",
       "             292.0: 16,\n",
       "             293.0: 3,\n",
       "             294.0: 6,\n",
       "             295.0: 4,\n",
       "             296.0: 9,\n",
       "             297.0: 7,\n",
       "             298.0: 5,\n",
       "             299.0: 6,\n",
       "             300.0: 5,\n",
       "             301.0: 8,\n",
       "             302.0: 2,\n",
       "             303.0: 6,\n",
       "             304.0: 8,\n",
       "             305.0: 10,\n",
       "             306.0: 3,\n",
       "             307.0: 3,\n",
       "             308.0: 7,\n",
       "             309.0: 5,\n",
       "             310.0: 8,\n",
       "             311.0: 7,\n",
       "             312.0: 6,\n",
       "             313.0: 4,\n",
       "             314.0: 5,\n",
       "             315.0: 8,\n",
       "             316.0: 3,\n",
       "             317.0: 11,\n",
       "             318.0: 4,\n",
       "             319.0: 5,\n",
       "             320.0: 3,\n",
       "             321.0: 6,\n",
       "             322.0: 8,\n",
       "             323.0: 5,\n",
       "             324.0: 1,\n",
       "             325.0: 10,\n",
       "             326.0: 7,\n",
       "             327.0: 3,\n",
       "             328.0: 7,\n",
       "             329.0: 4,\n",
       "             330.0: 5,\n",
       "             331.0: 7,\n",
       "             332.0: 8,\n",
       "             333.0: 5,\n",
       "             334.0: 3,\n",
       "             335.0: 5,\n",
       "             336.0: 8,\n",
       "             337.0: 8,\n",
       "             338.0: 7,\n",
       "             339.0: 4,\n",
       "             340.0: 5,\n",
       "             341.0: 5,\n",
       "             342.0: 2,\n",
       "             343.0: 7,\n",
       "             344.0: 4,\n",
       "             345.0: 9,\n",
       "             346.0: 6,\n",
       "             347.0: 4,\n",
       "             348.0: 3,\n",
       "             349.0: 5,\n",
       "             350.0: 8,\n",
       "             351.0: 1,\n",
       "             352.0: 3,\n",
       "             353.0: 4,\n",
       "             354.0: 3,\n",
       "             355.0: 6,\n",
       "             356.0: 4,\n",
       "             357.0: 1,\n",
       "             358.0: 5,\n",
       "             359.0: 6,\n",
       "             360.0: 5,\n",
       "             361.0: 5,\n",
       "             362.0: 7,\n",
       "             363.0: 5,\n",
       "             364.0: 7,\n",
       "             365.0: 4,\n",
       "             366.0: 2,\n",
       "             367.0: 2,\n",
       "             368.0: 4,\n",
       "             369.0: 4,\n",
       "             370.0: 4,\n",
       "             371.0: 4,\n",
       "             372.0: 8,\n",
       "             373.0: 2,\n",
       "             374.0: 2,\n",
       "             375.0: 3,\n",
       "             376.0: 5,\n",
       "             377.0: 7,\n",
       "             378.0: 4,\n",
       "             379.0: 3,\n",
       "             380.0: 3,\n",
       "             381.0: 6,\n",
       "             382.0: 2,\n",
       "             383.0: 6,\n",
       "             384.0: 3,\n",
       "             385.0: 3,\n",
       "             386.0: 2,\n",
       "             387.0: 5,\n",
       "             388.0: 3,\n",
       "             389.0: 7,\n",
       "             390.0: 4,\n",
       "             391.0: 2,\n",
       "             392.0: 6,\n",
       "             393.0: 6,\n",
       "             394.0: 4,\n",
       "             395.0: 4,\n",
       "             396.0: 1,\n",
       "             397.0: 4,\n",
       "             398.0: 4,\n",
       "             399.0: 6,\n",
       "             400.0: 4,\n",
       "             401.0: 1,\n",
       "             402.0: 4,\n",
       "             403.0: 2,\n",
       "             404.0: 1,\n",
       "             405.0: 3,\n",
       "             406.0: 6,\n",
       "             407.0: 4,\n",
       "             408.0: 5,\n",
       "             409.0: 4,\n",
       "             410.0: 2,\n",
       "             411.0: 3,\n",
       "             412.0: 2,\n",
       "             413.0: 4,\n",
       "             414.0: 2,\n",
       "             415.0: 4,\n",
       "             416.0: 2,\n",
       "             417.0: 2,\n",
       "             418.0: 1,\n",
       "             419.0: 3,\n",
       "             420.0: 4,\n",
       "             421.0: 4,\n",
       "             422.0: 3,\n",
       "             423.0: 2,\n",
       "             424.0: 2,\n",
       "             425.0: 3,\n",
       "             426.0: 4,\n",
       "             427.0: 3,\n",
       "             428.0: 2,\n",
       "             429.0: 6,\n",
       "             430.0: 5,\n",
       "             431.0: 3,\n",
       "             432.0: 4,\n",
       "             433.0: 2,\n",
       "             435.0: 3,\n",
       "             436.0: 3,\n",
       "             437.0: 2,\n",
       "             438.0: 1,\n",
       "             439.0: 5,\n",
       "             440.0: 5,\n",
       "             442.0: 3,\n",
       "             443.0: 2,\n",
       "             444.0: 2,\n",
       "             445.0: 1,\n",
       "             447.0: 3,\n",
       "             448.0: 2,\n",
       "             449.0: 1,\n",
       "             450.0: 1,\n",
       "             451.0: 5,\n",
       "             452.0: 2,\n",
       "             453.0: 2,\n",
       "             454.0: 2,\n",
       "             455.0: 2,\n",
       "             456.0: 1,\n",
       "             457.0: 2,\n",
       "             459.0: 3,\n",
       "             460.0: 3,\n",
       "             462.0: 1,\n",
       "             463.0: 1,\n",
       "             464.0: 3,\n",
       "             465.0: 1,\n",
       "             466.0: 3,\n",
       "             467.0: 1,\n",
       "             469.0: 4,\n",
       "             470.0: 2,\n",
       "             471.0: 1,\n",
       "             472.0: 2,\n",
       "             473.0: 2,\n",
       "             474.0: 1,\n",
       "             476.0: 1,\n",
       "             477.0: 1,\n",
       "             478.0: 1,\n",
       "             479.0: 2,\n",
       "             480.0: 2,\n",
       "             481.0: 2,\n",
       "             482.0: 3,\n",
       "             483.0: 2,\n",
       "             484.0: 2,\n",
       "             485.0: 3,\n",
       "             486.0: 2,\n",
       "             487.0: 1,\n",
       "             488.0: 2,\n",
       "             489.0: 1,\n",
       "             490.0: 3,\n",
       "             491.0: 2,\n",
       "             493.0: 2,\n",
       "             494.0: 1,\n",
       "             495.0: 2,\n",
       "             496.0: 1,\n",
       "             497.0: 1,\n",
       "             498.0: 1,\n",
       "             499.0: 3,\n",
       "             500.0: 1,\n",
       "             501.0: 3,\n",
       "             502.0: 2,\n",
       "             503.0: 4,\n",
       "             505.0: 1,\n",
       "             506.0: 3,\n",
       "             507.0: 1,\n",
       "             508.0: 1,\n",
       "             511.0: 2,\n",
       "             512.0: 2,\n",
       "             513.0: 5,\n",
       "             515.0: 1,\n",
       "             516.0: 1,\n",
       "             517.0: 3,\n",
       "             518.0: 1,\n",
       "             519.0: 4,\n",
       "             521.0: 3,\n",
       "             522.0: 2,\n",
       "             523.0: 1,\n",
       "             524.0: 1,\n",
       "             525.0: 3,\n",
       "             527.0: 5,\n",
       "             529.0: 1,\n",
       "             530.0: 1,\n",
       "             531.0: 3,\n",
       "             532.0: 4,\n",
       "             533.0: 1,\n",
       "             534.0: 1,\n",
       "             535.0: 2,\n",
       "             536.0: 1,\n",
       "             537.0: 1,\n",
       "             538.0: 2,\n",
       "             541.0: 3,\n",
       "             542.0: 3,\n",
       "             543.0: 1,\n",
       "             547.0: 3,\n",
       "             548.0: 4,\n",
       "             549.0: 2,\n",
       "             552.0: 1,\n",
       "             553.0: 2,\n",
       "             554.0: 3,\n",
       "             555.0: 1,\n",
       "             557.0: 3,\n",
       "             558.0: 1,\n",
       "             559.0: 1,\n",
       "             560.0: 2,\n",
       "             564.0: 1,\n",
       "             565.0: 2,\n",
       "             566.0: 1,\n",
       "             567.0: 2,\n",
       "             569.0: 2,\n",
       "             570.0: 2,\n",
       "             573.0: 3,\n",
       "             574.0: 1,\n",
       "             575.0: 1,\n",
       "             576.0: 1,\n",
       "             577.0: 1,\n",
       "             578.0: 2,\n",
       "             580.0: 1,\n",
       "             581.0: 3,\n",
       "             582.0: 1,\n",
       "             583.0: 4,\n",
       "             584.0: 1,\n",
       "             585.0: 2,\n",
       "             586.0: 3,\n",
       "             588.0: 2,\n",
       "             589.0: 2,\n",
       "             592.0: 2,\n",
       "             596.0: 3,\n",
       "             597.0: 2,\n",
       "             598.0: 1,\n",
       "             599.0: 1,\n",
       "             600.0: 1,\n",
       "             602.0: 2,\n",
       "             604.0: 3,\n",
       "             605.0: 2,\n",
       "             606.0: 3,\n",
       "             607.0: 4,\n",
       "             608.0: 1,\n",
       "             610.0: 1,\n",
       "             612.0: 1,\n",
       "             616.0: 1,\n",
       "             617.0: 1,\n",
       "             618.0: 1,\n",
       "             619.0: 1,\n",
       "             620.0: 2,\n",
       "             621.0: 1,\n",
       "             622.0: 2,\n",
       "             623.0: 1,\n",
       "             624.0: 1,\n",
       "             625.0: 2,\n",
       "             627.0: 1,\n",
       "             629.0: 3,\n",
       "             630.0: 1,\n",
       "             632.0: 1,\n",
       "             633.0: 1,\n",
       "             634.0: 2,\n",
       "             635.0: 1,\n",
       "             636.0: 2,\n",
       "             637.0: 1,\n",
       "             638.0: 1,\n",
       "             640.0: 1,\n",
       "             641.0: 1,\n",
       "             643.0: 3,\n",
       "             644.0: 1,\n",
       "             645.0: 2,\n",
       "             646.0: 1,\n",
       "             647.0: 2,\n",
       "             648.0: 2,\n",
       "             649.0: 1,\n",
       "             652.0: 1,\n",
       "             653.0: 2,\n",
       "             654.0: 1,\n",
       "             656.0: 1,\n",
       "             658.0: 1,\n",
       "             659.0: 2,\n",
       "             660.0: 2,\n",
       "             661.0: 2,\n",
       "             663.0: 3,\n",
       "             665.0: 1,\n",
       "             668.0: 1,\n",
       "             670.0: 2,\n",
       "             671.0: 1,\n",
       "             672.0: 2,\n",
       "             674.0: 1,\n",
       "             676.0: 1,\n",
       "             677.0: 1,\n",
       "             679.0: 1,\n",
       "             680.0: 1,\n",
       "             682.0: 1,\n",
       "             683.0: 1,\n",
       "             687.0: 1,\n",
       "             690.0: 1,\n",
       "             693.0: 1,\n",
       "             694.0: 2,\n",
       "             696.0: 1,\n",
       "             698.0: 1,\n",
       "             699.0: 1,\n",
       "             700.0: 1,\n",
       "             701.0: 1,\n",
       "             702.0: 3,\n",
       "             704.0: 1,\n",
       "             705.0: 3,\n",
       "             706.0: 2,\n",
       "             710.0: 1,\n",
       "             711.0: 1,\n",
       "             712.0: 1,\n",
       "             713.0: 1,\n",
       "             718.0: 1,\n",
       "             719.0: 1,\n",
       "             720.0: 3,\n",
       "             725.0: 1,\n",
       "             727.0: 1,\n",
       "             732.0: 1,\n",
       "             736.0: 1,\n",
       "             739.0: 1,\n",
       "             741.0: 1,\n",
       "             742.0: 1,\n",
       "             743.0: 1,\n",
       "             744.0: 1,\n",
       "             746.0: 2,\n",
       "             747.0: 1,\n",
       "             753.0: 2,\n",
       "             754.0: 1,\n",
       "             757.0: 1,\n",
       "             764.0: 1,\n",
       "             765.0: 1,\n",
       "             766.0: 1,\n",
       "             772.0: 1,\n",
       "             773.0: 1,\n",
       "             776.0: 2,\n",
       "             781.0: 1,\n",
       "             789.0: 1,\n",
       "             795.0: 1,\n",
       "             796.0: 2,\n",
       "             800.0: 1,\n",
       "             803.0: 2,\n",
       "             804.0: 1,\n",
       "             805.0: 1,\n",
       "             809.0: 1,\n",
       "             811.0: 2,\n",
       "             814.0: 1,\n",
       "             819.0: 2,\n",
       "             820.0: 2,\n",
       "             821.0: 1,\n",
       "             822.0: 1,\n",
       "             828.0: 1,\n",
       "             829.0: 1,\n",
       "             830.0: 1,\n",
       "             833.0: 2,\n",
       "             834.0: 1,\n",
       "             837.0: 1,\n",
       "             838.0: 2,\n",
       "             840.0: 1,\n",
       "             848.0: 2,\n",
       "             854.0: 1,\n",
       "             861.0: 1,\n",
       "             862.0: 1,\n",
       "             871.0: 1,\n",
       "             872.0: 1,\n",
       "             875.0: 1,\n",
       "             880.0: 1,\n",
       "             882.0: 2,\n",
       "             896.0: 1,\n",
       "             898.0: 1,\n",
       "             903.0: 1,\n",
       "             915.0: 3,\n",
       "             916.0: 1,\n",
       "             923.0: 1,\n",
       "             924.0: 1,\n",
       "             947.0: 1,\n",
       "             956.0: 1,\n",
       "             960.0: 1,\n",
       "             980.0: 1,\n",
       "             989.0: 1,\n",
       "             1002.0: 1,\n",
       "             1005.0: 1,\n",
       "             1029.0: 1,\n",
       "             1040.0: 1,\n",
       "             1069.0: 1,\n",
       "             1081.0: 1,\n",
       "             1094.0: 1,\n",
       "             1095.0: 1,\n",
       "             1105.0: 1,\n",
       "             1108.0: 1,\n",
       "             1138.0: 1,\n",
       "             1253.0: 1,\n",
       "             1287.0: 1})"
      ]
     },
     "execution_count": 643,
     "metadata": {},
     "output_type": "execute_result"
    }
   ],
   "source": [
    "# Выведите отсортированное распределение плотности пикселей (1 балла)\n",
    "# точек на дюйм\n",
    "\n",
    "# Определяем номера столбцов с шириной и высотой экрана\n",
    "sc_w = [x[0] for x in enumerate(data_header.split(',')) if x[1] == 'sc_w'][0]\n",
    "sc_h = [x[0] for x in enumerate(data_header.split(',')) if x[1] == 'sc_h'][0]\n",
    "\n",
    "# Определяем номера столбцов с пикселями\n",
    "px_width = [x[0] for x in enumerate(data_header.split(',')) if x[1] == 'px_width'][0]\n",
    "px_height = [x[0] for x in enumerate(data_header.split(',')) if x[1] == 'px_height'][0]\n",
    "\n",
    "# Удаляем строки с нулевыми данными\n",
    "data = data.filter(lambda row: row[sc_w] != 0)\n",
    "data = data.filter(lambda row: row[sc_h] != 0)\n",
    "\n",
    "data = data.filter(lambda row: row[px_width] != 0)\n",
    "data = data.filter(lambda row: row[px_height] != 0)\n",
    "\n",
    "# Рассчитываем PPI\n",
    "PPI = data.map(lambda row: \\\n",
    "                          (\\\n",
    "                            round( \\\n",
    "                              ((row[px_width] ** 2 + row[px_height] ** 2) ** 0.5) / \\\n",
    "                              (((row[sc_w] ** 2 + row[sc_h] ** 2) ** 0.5) * 0.3937) \\\n",
    "                                    , 0) \\\n",
    "                           , 1) \\\n",
    "              ).sortByKey().countByKey()\n",
    "\n",
    "PPI"
   ]
  },
  {
   "cell_type": "code",
   "execution_count": 644,
   "id": "440217ff",
   "metadata": {},
   "outputs": [
    {
     "name": "stderr",
     "output_type": "stream",
     "text": [
      "\r",
      "[Stage 503:============================>                            (2 + 2) / 4]\r",
      "\r",
      "                                                                                \r"
     ]
    },
    {
     "data": {
      "text/plain": [
       "2705"
      ]
     },
     "execution_count": 644,
     "metadata": {},
     "output_type": "execute_result"
    }
   ],
   "source": [
    "# Проверяем сколько в объединенном наборе данных осталось строчек, после того как удалили строчки с нулевыми данными.\n",
    "data.count()"
   ]
  },
  {
   "cell_type": "code",
   "execution_count": 275,
   "id": "1a21bff1",
   "metadata": {},
   "outputs": [
    {
     "data": {
      "text/plain": [
       "'battery_power,blue,clock_speed,dual_sim,fc,four_g,int_memory,m_dep,mobile_wt,n_cores,pc,px_height,px_width,ram,sc_h,sc_w,talk_time,three_g,touch_screen,wifi'"
      ]
     },
     "execution_count": 275,
     "metadata": {},
     "output_type": "execute_result"
    }
   ],
   "source": [
    "data_header"
   ]
  },
  {
   "cell_type": "markdown",
   "id": "2d07fe08",
   "metadata": {},
   "source": [
    "# JOIN\n",
    "Повторите вышеописанное задание с помощью одной из функций ниже (отдельно рассчитайте для train и test, затем объедините результат)\n",
    "\n",
    "Пример для двух RDDs: (rdd = {(1, 2), (3, 4), (3, 6)} other = {(3, 9)})\n",
    "\n",
    "Имя функции |\tPurpose |\tExample |\tResult\n",
    "------------- |\t------- |\t------- |\t------\n",
    "subtractByKey |Remove elements with a key present in the other RDD.| rdd.subtractByKey(other) | {(1, 2)}\n",
    "join | Perform an inner join between two RDDs. | rdd.join(other) | {(3, (4, 9)), (3, (6, 9))}\n",
    "rightOuterJoin | Perform a join between two RDDs where the key must be present in the first RDD. | rdd.rightOuterJoin(other) | {(3,(Some(4),9)), (3,(Some(6),9))}leftOuterJoin | Perform a join between two RDDs where the key must be present in the other RDD. | rdd.leftOuterJoin(other) | {(1,(2,None)), (3,(4,Some(9))), (3,(6,Some(9)))}\n",
    "cogroup | Group data from both RDDs sharing the same key. | rdd.cogroup(other) | {(1,([2],[])), (3,([4, 6],[9]))}\n"
   ]
  },
  {
   "cell_type": "code",
   "execution_count": 645,
   "id": "a1631c3b",
   "metadata": {},
   "outputs": [
    {
     "data": {
      "text/plain": [
       "'battery_power,blue,clock_speed,dual_sim,fc,four_g,int_memory,m_dep,mobile_wt,n_cores,pc,px_height,px_width,ram,sc_h,sc_w,talk_time,three_g,touch_screen,wifi,price_range'"
      ]
     },
     "execution_count": 645,
     "metadata": {},
     "output_type": "execute_result"
    }
   ],
   "source": [
    "train_first_row"
   ]
  },
  {
   "cell_type": "code",
   "execution_count": 646,
   "id": "95d63385",
   "metadata": {},
   "outputs": [
    {
     "data": {
      "text/plain": [
       "'id,battery_power,blue,clock_speed,dual_sim,fc,four_g,int_memory,m_dep,mobile_wt,n_cores,pc,px_height,px_width,ram,sc_h,sc_w,talk_time,three_g,touch_screen,wifi'"
      ]
     },
     "execution_count": 646,
     "metadata": {},
     "output_type": "execute_result"
    }
   ],
   "source": [
    "test_first_row"
   ]
  },
  {
   "cell_type": "code",
   "execution_count": 647,
   "id": "51986a2c",
   "metadata": {},
   "outputs": [
    {
     "data": {
      "text/plain": [
       "2000"
      ]
     },
     "execution_count": 647,
     "metadata": {},
     "output_type": "execute_result"
    }
   ],
   "source": [
    "train.count()"
   ]
  },
  {
   "cell_type": "code",
   "execution_count": 648,
   "id": "bb876519",
   "metadata": {},
   "outputs": [
    {
     "data": {
      "text/plain": [
       "1000"
      ]
     },
     "execution_count": 648,
     "metadata": {},
     "output_type": "execute_result"
    }
   ],
   "source": [
    "test.count()"
   ]
  },
  {
   "cell_type": "code",
   "execution_count": 649,
   "id": "5097c377",
   "metadata": {},
   "outputs": [],
   "source": [
    "# Подготавливаем для работы train\n",
    "\n",
    "# Определяем номера столбцов с шириной и высотой экрана\n",
    "tr_sc_w = [x[0] for x in enumerate(train_first_row.split(',')) if x[1] == 'sc_w'][0]\n",
    "tr_sc_h = [x[0] for x in enumerate(train_first_row.split(',')) if x[1] == 'sc_h'][0]\n",
    "\n",
    "# Определяем номера столбцов с пикселями\n",
    "tr_px_width = [x[0] for x in enumerate(train_first_row.split(',')) if x[1] == 'px_width'][0]\n",
    "tr_px_height = [x[0] for x in enumerate(train_first_row.split(',')) if x[1] == 'px_height'][0]\n",
    "\n",
    "# Удаляем строки с нулевыми данными\n",
    "jtrain = train.filter(lambda row: row[tr_sc_w] != 0)\n",
    "jtrain = jtrain.filter(lambda row: row[tr_sc_h] != 0)\n",
    "jtrain = jtrain.filter(lambda row: row[tr_px_width] != 0)\n",
    "jtrain = jtrain.filter(lambda row: row[tr_px_height] != 0)\n",
    "\n",
    "# Подготавливаем для работы test\n",
    "\n",
    "# Определяем номера столбцов с шириной и высотой экрана\n",
    "te_sc_w = [x[0] for x in enumerate(test_first_row.split(',')) if x[1] == 'sc_w'][0]\n",
    "te_sc_h = [x[0] for x in enumerate(test_first_row.split(',')) if x[1] == 'sc_h'][0]\n",
    "\n",
    "# Определяем номера столбцов с пикселями\n",
    "te_px_width = [x[0] for x in enumerate(test_first_row.split(',')) if x[1] == 'px_width'][0]\n",
    "te_px_height = [x[0] for x in enumerate(test_first_row.split(',')) if x[1] == 'px_height'][0]\n",
    "\n",
    "# Удаляем строки с нулевыми данными\n",
    "jtest = test.filter(lambda row: row[te_sc_w] != 0)\n",
    "jtest = jtest.filter(lambda row: row[te_sc_h] != 0)\n",
    "jtest = jtest.filter(lambda row: row[te_px_width] != 0)\n",
    "jtest = jtest.filter(lambda row: row[te_px_height] != 0)"
   ]
  },
  {
   "cell_type": "code",
   "execution_count": 650,
   "id": "6586a7ec",
   "metadata": {},
   "outputs": [
    {
     "data": {
      "text/plain": [
       "1819"
      ]
     },
     "execution_count": 650,
     "metadata": {},
     "output_type": "execute_result"
    }
   ],
   "source": [
    "jtrain.count()"
   ]
  },
  {
   "cell_type": "code",
   "execution_count": 651,
   "id": "bd055263",
   "metadata": {},
   "outputs": [
    {
     "data": {
      "text/plain": [
       "886"
      ]
     },
     "execution_count": 651,
     "metadata": {},
     "output_type": "execute_result"
    }
   ],
   "source": [
    "jtest.count()"
   ]
  },
  {
   "cell_type": "code",
   "execution_count": 652,
   "id": "e7135e2f",
   "metadata": {},
   "outputs": [
    {
     "name": "stderr",
     "output_type": "stream",
     "text": [
      "                                                                                \r"
     ]
    }
   ],
   "source": [
    "# Вычисляем соотношение сторон для train и test\n",
    "tr_screen_aspect_ratio = jtrain.map(lambda row: (round(row[tr_sc_h] / row[tr_sc_w], 2), 1)).sortByKey().countByKey()\n",
    "te_screen_aspect_ratio = jtest.map(lambda row: (round(row[te_sc_h] / row[te_sc_w], 2), 1)).sortByKey().countByKey()\n",
    "\n",
    "# Вычисляем PPI для train и test\n",
    "tr_PPI = jtrain.map(lambda row: \\\n",
    "                          (\\\n",
    "                            round( \\\n",
    "                              ((row[tr_px_width] ** 2 + row[tr_px_height] ** 2) ** 0.5) / \\\n",
    "                              (((row[tr_sc_w] ** 2 + row[tr_sc_h] ** 2) ** 0.5) * 0.3937) \\\n",
    "                                    , 0) \\\n",
    "                           , 1) \\\n",
    "              ).sortByKey().countByKey()\n",
    "\n",
    "te_PPI = jtest.map(lambda row: \\\n",
    "                          (\\\n",
    "                            round( \\\n",
    "                              ((row[te_px_width] ** 2 + row[te_px_height] ** 2) ** 0.5) / \\\n",
    "                              (((row[te_sc_w] ** 2 + row[te_sc_h] ** 2) ** 0.5) * 0.3937) \\\n",
    "                                    , 0) \\\n",
    "                           , 1) \\\n",
    "              ).sortByKey().countByKey()"
   ]
  },
  {
   "cell_type": "code",
   "execution_count": 653,
   "id": "171078fd",
   "metadata": {},
   "outputs": [],
   "source": [
    "# Создаем объекты RDD, на основании полученных данных о соотношении сторон и PPI\n",
    "train_subtract = sc.parallelize(tr_screen_aspect_ratio.items())\n",
    "test_subtract = sc.parallelize(te_screen_aspect_ratio.items())\n",
    "\n",
    "train_join = sc.parallelize(tr_PPI.items())\n",
    "test_join = sc.parallelize(te_PPI.items())"
   ]
  },
  {
   "cell_type": "code",
   "execution_count": 654,
   "id": "3c64907e",
   "metadata": {},
   "outputs": [
    {
     "name": "stderr",
     "output_type": "stream",
     "text": [
      "                                                                                \r"
     ]
    },
    {
     "data": {
      "text/plain": [
       "[(1.09, 16)]"
      ]
     },
     "execution_count": 654,
     "metadata": {},
     "output_type": "execute_result"
    }
   ],
   "source": [
    "train_subtract.subtractByKey(test_subtract).collect()"
   ]
  },
  {
   "cell_type": "code",
   "execution_count": 655,
   "id": "34aa5fff",
   "metadata": {},
   "outputs": [
    {
     "name": "stderr",
     "output_type": "stream",
     "text": [
      "                                                                                \r"
     ]
    },
    {
     "data": {
      "text/plain": [
       "[(61.0, (1, 2)),\n",
       " (73.0, (1, 1)),\n",
       " (74.0, (1, 1)),\n",
       " (76.0, (1, 1)),\n",
       " (79.0, (4, 2)),\n",
       " (80.0, (1, 4)),\n",
       " (82.0, (4, 2)),\n",
       " (83.0, (4, 4)),\n",
       " (84.0, (5, 1)),\n",
       " (85.0, (3, 1)),\n",
       " (86.0, (2, 1)),\n",
       " (87.0, (4, 4)),\n",
       " (88.0, (2, 3)),\n",
       " (89.0, (2, 3)),\n",
       " (90.0, (3, 1)),\n",
       " (91.0, (2, 1)),\n",
       " (92.0, (3, 2)),\n",
       " (93.0, (2, 4)),\n",
       " (94.0, (2, 1)),\n",
       " (95.0, (3, 1)),\n",
       " (97.0, (2, 3)),\n",
       " (98.0, (1, 1)),\n",
       " (99.0, (4, 1)),\n",
       " (100.0, (3, 2)),\n",
       " (102.0, (5, 2)),\n",
       " (103.0, (4, 2)),\n",
       " (105.0, (5, 1)),\n",
       " (106.0, (2, 1)),\n",
       " (107.0, (4, 1)),\n",
       " (108.0, (1, 1)),\n",
       " (109.0, (3, 3)),\n",
       " (110.0, (5, 3)),\n",
       " (111.0, (3, 2)),\n",
       " (112.0, (3, 5)),\n",
       " (113.0, (2, 1)),\n",
       " (114.0, (4, 3)),\n",
       " (115.0, (2, 3)),\n",
       " (116.0, (5, 1)),\n",
       " (117.0, (5, 3)),\n",
       " (118.0, (5, 3)),\n",
       " (120.0, (4, 3)),\n",
       " (121.0, (6, 5)),\n",
       " (122.0, (11, 2)),\n",
       " (123.0, (4, 2)),\n",
       " (124.0, (4, 3)),\n",
       " (126.0, (4, 2)),\n",
       " (127.0, (6, 2)),\n",
       " (128.0, (9, 3)),\n",
       " (129.0, (2, 3)),\n",
       " (130.0, (1, 1)),\n",
       " (131.0, (3, 1)),\n",
       " (132.0, (8, 2)),\n",
       " (133.0, (7, 1)),\n",
       " (134.0, (3, 1)),\n",
       " (136.0, (6, 2)),\n",
       " (137.0, (8, 4)),\n",
       " (138.0, (7, 6)),\n",
       " (139.0, (7, 3)),\n",
       " (140.0, (7, 1)),\n",
       " (141.0, (1, 2)),\n",
       " (144.0, (8, 2)),\n",
       " (145.0, (4, 4)),\n",
       " (146.0, (1, 2)),\n",
       " (147.0, (6, 1)),\n",
       " (148.0, (3, 2)),\n",
       " (149.0, (4, 1)),\n",
       " (150.0, (9, 1)),\n",
       " (151.0, (6, 4)),\n",
       " (153.0, (5, 4)),\n",
       " (154.0, (3, 6)),\n",
       " (155.0, (5, 2)),\n",
       " (156.0, (6, 1)),\n",
       " (157.0, (6, 3)),\n",
       " (158.0, (7, 2)),\n",
       " (159.0, (3, 2)),\n",
       " (160.0, (1, 2)),\n",
       " (162.0, (6, 4)),\n",
       " (163.0, (3, 2)),\n",
       " (164.0, (2, 3)),\n",
       " (165.0, (5, 4)),\n",
       " (166.0, (7, 4)),\n",
       " (167.0, (6, 1)),\n",
       " (168.0, (5, 4)),\n",
       " (169.0, (9, 2)),\n",
       " (170.0, (4, 1)),\n",
       " (171.0, (5, 6)),\n",
       " (172.0, (7, 3)),\n",
       " (173.0, (5, 2)),\n",
       " (174.0, (6, 4)),\n",
       " (175.0, (6, 3)),\n",
       " (176.0, (8, 5)),\n",
       " (178.0, (3, 2)),\n",
       " (179.0, (5, 2)),\n",
       " (180.0, (6, 6)),\n",
       " (181.0, (7, 4)),\n",
       " (182.0, (9, 2)),\n",
       " (183.0, (8, 2)),\n",
       " (184.0, (5, 3)),\n",
       " (185.0, (5, 6)),\n",
       " (186.0, (6, 1)),\n",
       " (187.0, (2, 4)),\n",
       " (188.0, (8, 4)),\n",
       " (189.0, (5, 2)),\n",
       " (190.0, (6, 3)),\n",
       " (191.0, (5, 2)),\n",
       " (192.0, (6, 1)),\n",
       " (193.0, (6, 3)),\n",
       " (194.0, (2, 3)),\n",
       " (195.0, (4, 3)),\n",
       " (196.0, (8, 1)),\n",
       " (197.0, (10, 4)),\n",
       " (198.0, (7, 4)),\n",
       " (199.0, (7, 6)),\n",
       " (200.0, (6, 4)),\n",
       " (201.0, (6, 4)),\n",
       " (202.0, (7, 2)),\n",
       " (203.0, (6, 2)),\n",
       " (204.0, (8, 1)),\n",
       " (205.0, (9, 2)),\n",
       " (206.0, (6, 6)),\n",
       " (207.0, (4, 2)),\n",
       " (208.0, (7, 3)),\n",
       " (209.0, (10, 7)),\n",
       " (210.0, (9, 2)),\n",
       " (211.0, (2, 1)),\n",
       " (212.0, (6, 2)),\n",
       " (213.0, (5, 1)),\n",
       " (214.0, (6, 5)),\n",
       " (215.0, (8, 2)),\n",
       " (217.0, (2, 2)),\n",
       " (218.0, (3, 3)),\n",
       " (219.0, (6, 2)),\n",
       " (220.0, (6, 4)),\n",
       " (221.0, (10, 2)),\n",
       " (222.0, (5, 1)),\n",
       " (223.0, (4, 1)),\n",
       " (224.0, (8, 1)),\n",
       " (225.0, (8, 7)),\n",
       " (227.0, (6, 4)),\n",
       " (228.0, (5, 4)),\n",
       " (230.0, (7, 3)),\n",
       " (231.0, (7, 1)),\n",
       " (232.0, (4, 2)),\n",
       " (233.0, (6, 1)),\n",
       " (235.0, (6, 3)),\n",
       " (236.0, (9, 1)),\n",
       " (237.0, (2, 4)),\n",
       " (238.0, (5, 4)),\n",
       " (239.0, (4, 2)),\n",
       " (240.0, (4, 2)),\n",
       " (241.0, (5, 1)),\n",
       " (242.0, (9, 3)),\n",
       " (243.0, (2, 1)),\n",
       " (244.0, (5, 3)),\n",
       " (245.0, (7, 2)),\n",
       " (246.0, (7, 5)),\n",
       " (247.0, (3, 2)),\n",
       " (248.0, (5, 1)),\n",
       " (249.0, (8, 3)),\n",
       " (250.0, (7, 3)),\n",
       " (251.0, (4, 1)),\n",
       " (252.0, (1, 3)),\n",
       " (253.0, (3, 5)),\n",
       " (254.0, (2, 1)),\n",
       " (256.0, (4, 3)),\n",
       " (257.0, (1, 1)),\n",
       " (258.0, (11, 4)),\n",
       " (259.0, (6, 2)),\n",
       " (260.0, (2, 3)),\n",
       " (261.0, (3, 4)),\n",
       " (262.0, (8, 2)),\n",
       " (263.0, (6, 1)),\n",
       " (264.0, (3, 2)),\n",
       " (265.0, (9, 3)),\n",
       " (266.0, (4, 2)),\n",
       " (267.0, (4, 2)),\n",
       " (268.0, (3, 3)),\n",
       " (269.0, (5, 2)),\n",
       " (270.0, (5, 1)),\n",
       " (271.0, (4, 1)),\n",
       " (272.0, (6, 2)),\n",
       " (273.0, (5, 4)),\n",
       " (274.0, (4, 2)),\n",
       " (276.0, (4, 3)),\n",
       " (277.0, (6, 2)),\n",
       " (278.0, (4, 2)),\n",
       " (279.0, (3, 3)),\n",
       " (281.0, (3, 3)),\n",
       " (282.0, (7, 2)),\n",
       " (283.0, (5, 3)),\n",
       " (285.0, (10, 1)),\n",
       " (287.0, (5, 2)),\n",
       " (288.0, (5, 1)),\n",
       " (289.0, (6, 2)),\n",
       " (290.0, (3, 2)),\n",
       " (291.0, (4, 2)),\n",
       " (292.0, (12, 4)),\n",
       " (293.0, (2, 1)),\n",
       " (294.0, (4, 2)),\n",
       " (295.0, (1, 3)),\n",
       " (296.0, (5, 4)),\n",
       " (297.0, (6, 1)),\n",
       " (298.0, (2, 3)),\n",
       " (299.0, (3, 3)),\n",
       " (300.0, (4, 1)),\n",
       " (301.0, (4, 4)),\n",
       " (302.0, (1, 1)),\n",
       " (303.0, (3, 3)),\n",
       " (304.0, (7, 1)),\n",
       " (305.0, (8, 2)),\n",
       " (306.0, (2, 1)),\n",
       " (307.0, (2, 1)),\n",
       " (308.0, (6, 1)),\n",
       " (309.0, (3, 2)),\n",
       " (310.0, (3, 5)),\n",
       " (311.0, (5, 2)),\n",
       " (312.0, (1, 5)),\n",
       " (313.0, (3, 1)),\n",
       " (314.0, (4, 1)),\n",
       " (315.0, (7, 1)),\n",
       " (317.0, (6, 5)),\n",
       " (318.0, (3, 1)),\n",
       " (319.0, (3, 2)),\n",
       " (320.0, (2, 1)),\n",
       " (321.0, (5, 1)),\n",
       " (322.0, (7, 1)),\n",
       " (323.0, (4, 1)),\n",
       " (326.0, (5, 2)),\n",
       " (327.0, (2, 1)),\n",
       " (328.0, (6, 1)),\n",
       " (329.0, (3, 1)),\n",
       " (330.0, (2, 3)),\n",
       " (331.0, (6, 1)),\n",
       " (332.0, (4, 4)),\n",
       " (333.0, (3, 2)),\n",
       " (334.0, (1, 2)),\n",
       " (335.0, (4, 1)),\n",
       " (336.0, (6, 2)),\n",
       " (337.0, (5, 3)),\n",
       " (338.0, (4, 3)),\n",
       " (339.0, (3, 1)),\n",
       " (343.0, (6, 1)),\n",
       " (344.0, (2, 2)),\n",
       " (345.0, (6, 3)),\n",
       " (346.0, (4, 2)),\n",
       " (347.0, (2, 2)),\n",
       " (348.0, (1, 2)),\n",
       " (349.0, (2, 3)),\n",
       " (350.0, (6, 2)),\n",
       " (355.0, (4, 2)),\n",
       " (358.0, (2, 3)),\n",
       " (359.0, (4, 2)),\n",
       " (360.0, (4, 1)),\n",
       " (361.0, (3, 2)),\n",
       " (362.0, (4, 3)),\n",
       " (363.0, (3, 2)),\n",
       " (364.0, (6, 1)),\n",
       " (365.0, (2, 2)),\n",
       " (366.0, (1, 1)),\n",
       " (368.0, (2, 2)),\n",
       " (369.0, (3, 1)),\n",
       " (370.0, (3, 1)),\n",
       " (371.0, (2, 2)),\n",
       " (372.0, (7, 1)),\n",
       " (374.0, (1, 1)),\n",
       " (376.0, (4, 1)),\n",
       " (377.0, (5, 2)),\n",
       " (378.0, (3, 1)),\n",
       " (380.0, (1, 2)),\n",
       " (381.0, (4, 2)),\n",
       " (383.0, (5, 1)),\n",
       " (384.0, (2, 1)),\n",
       " (387.0, (1, 4)),\n",
       " (388.0, (1, 2)),\n",
       " (389.0, (3, 4)),\n",
       " (390.0, (3, 1)),\n",
       " (391.0, (1, 1)),\n",
       " (392.0, (5, 1)),\n",
       " (393.0, (1, 5)),\n",
       " (394.0, (2, 2)),\n",
       " (395.0, (3, 1)),\n",
       " (397.0, (1, 3)),\n",
       " (398.0, (3, 1)),\n",
       " (399.0, (5, 1)),\n",
       " (400.0, (2, 2)),\n",
       " (402.0, (3, 1)),\n",
       " (403.0, (1, 1)),\n",
       " (405.0, (1, 2)),\n",
       " (406.0, (4, 2)),\n",
       " (407.0, (3, 1)),\n",
       " (408.0, (3, 2)),\n",
       " (409.0, (3, 1)),\n",
       " (411.0, (2, 1)),\n",
       " (413.0, (1, 3)),\n",
       " (414.0, (1, 1)),\n",
       " (415.0, (3, 1)),\n",
       " (420.0, (3, 1)),\n",
       " (421.0, (3, 1)),\n",
       " (422.0, (1, 2)),\n",
       " (426.0, (2, 2)),\n",
       " (430.0, (3, 2)),\n",
       " (431.0, (1, 2)),\n",
       " (432.0, (3, 1)),\n",
       " (435.0, (1, 2)),\n",
       " (436.0, (2, 1)),\n",
       " (437.0, (1, 1)),\n",
       " (439.0, (1, 4)),\n",
       " (440.0, (3, 2)),\n",
       " (443.0, (1, 1)),\n",
       " (444.0, (1, 1)),\n",
       " (447.0, (1, 2)),\n",
       " (451.0, (1, 4)),\n",
       " (454.0, (1, 1)),\n",
       " (455.0, (1, 1)),\n",
       " (457.0, (1, 1)),\n",
       " (459.0, (2, 1)),\n",
       " (464.0, (2, 1)),\n",
       " (466.0, (1, 2)),\n",
       " (469.0, (3, 1)),\n",
       " (470.0, (1, 1)),\n",
       " (472.0, (1, 1)),\n",
       " (479.0, (1, 1)),\n",
       " (480.0, (1, 1)),\n",
       " (482.0, (2, 1)),\n",
       " (486.0, (1, 1)),\n",
       " (488.0, (1, 1)),\n",
       " (491.0, (1, 1)),\n",
       " (499.0, (1, 2)),\n",
       " (501.0, (1, 2)),\n",
       " (506.0, (1, 2)),\n",
       " (511.0, (1, 1)),\n",
       " (512.0, (1, 1)),\n",
       " (513.0, (4, 1)),\n",
       " (519.0, (2, 2)),\n",
       " (521.0, (2, 1)),\n",
       " (522.0, (1, 1)),\n",
       " (525.0, (2, 1)),\n",
       " (527.0, (2, 3)),\n",
       " (531.0, (2, 1)),\n",
       " (542.0, (2, 1)),\n",
       " (548.0, (3, 1)),\n",
       " (549.0, (1, 1)),\n",
       " (554.0, (2, 1)),\n",
       " (557.0, (2, 1)),\n",
       " (560.0, (1, 1)),\n",
       " (565.0, (1, 1)),\n",
       " (569.0, (1, 1)),\n",
       " (573.0, (2, 1)),\n",
       " (578.0, (1, 1)),\n",
       " (581.0, (2, 1)),\n",
       " (583.0, (3, 1)),\n",
       " (585.0, (1, 1)),\n",
       " (586.0, (2, 1)),\n",
       " (588.0, (1, 1)),\n",
       " (589.0, (1, 1)),\n",
       " (592.0, (1, 1)),\n",
       " (605.0, (1, 1)),\n",
       " (607.0, (3, 1)),\n",
       " (643.0, (2, 1)),\n",
       " (645.0, (1, 1)),\n",
       " (647.0, (1, 1)),\n",
       " (672.0, (1, 1)),\n",
       " (705.0, (2, 1)),\n",
       " (720.0, (2, 1)),\n",
       " (746.0, (1, 1)),\n",
       " (753.0, (1, 1)),\n",
       " (820.0, (1, 1)),\n",
       " (838.0, (1, 1)),\n",
       " (882.0, (1, 1)),\n",
       " (915.0, (2, 1))]"
      ]
     },
     "execution_count": 655,
     "metadata": {},
     "output_type": "execute_result"
    }
   ],
   "source": [
    "train_join.join(test_join).sortByKey().collect()"
   ]
  },
  {
   "cell_type": "markdown",
   "id": "8396e808",
   "metadata": {},
   "source": [
    "# DataFrame\n",
    "Теперь мы знаем про Dataframe. Нужно сделать практически всё то же самое, но используя датафрейм."
   ]
  },
  {
   "cell_type": "code",
   "execution_count": 656,
   "id": "865e1b87",
   "metadata": {},
   "outputs": [],
   "source": [
    "from pyspark.sql import functions as F\n",
    "from pyspark.sql.types import StructType, StructField, FloatType\n",
    "# Считываем и объединяем данные (1 балл)\n",
    "# Приведите все данные к правильному типу, либо считайе сразу верно (1 балл)\n",
    "# Создаём колонки с соотношением сторон и плотностью пикселей (1 балл)\n",
    "\n",
    "# Считываем данные сразу с правильными типами (inferSchema). \n",
    "df_train = spark.read.csv('./train.csv',header = True, inferSchema = True)\n",
    "df_test = spark.read.csv('./test.csv',header = True, inferSchema = True)"
   ]
  },
  {
   "cell_type": "code",
   "execution_count": 657,
   "id": "088402cd",
   "metadata": {},
   "outputs": [
    {
     "name": "stdout",
     "output_type": "stream",
     "text": [
      "root\n",
      " |-- battery_power: integer (nullable = true)\n",
      " |-- blue: integer (nullable = true)\n",
      " |-- clock_speed: double (nullable = true)\n",
      " |-- dual_sim: integer (nullable = true)\n",
      " |-- fc: integer (nullable = true)\n",
      " |-- four_g: integer (nullable = true)\n",
      " |-- int_memory: integer (nullable = true)\n",
      " |-- m_dep: double (nullable = true)\n",
      " |-- mobile_wt: integer (nullable = true)\n",
      " |-- n_cores: integer (nullable = true)\n",
      " |-- pc: integer (nullable = true)\n",
      " |-- px_height: integer (nullable = true)\n",
      " |-- px_width: integer (nullable = true)\n",
      " |-- ram: integer (nullable = true)\n",
      " |-- sc_h: integer (nullable = true)\n",
      " |-- sc_w: integer (nullable = true)\n",
      " |-- talk_time: integer (nullable = true)\n",
      " |-- three_g: integer (nullable = true)\n",
      " |-- touch_screen: integer (nullable = true)\n",
      " |-- wifi: integer (nullable = true)\n",
      " |-- price_range: integer (nullable = true)\n",
      "\n"
     ]
    }
   ],
   "source": [
    "df_train.printSchema()"
   ]
  },
  {
   "cell_type": "code",
   "execution_count": 658,
   "id": "42bb9603",
   "metadata": {},
   "outputs": [
    {
     "name": "stdout",
     "output_type": "stream",
     "text": [
      "root\n",
      " |-- id: integer (nullable = true)\n",
      " |-- battery_power: integer (nullable = true)\n",
      " |-- blue: integer (nullable = true)\n",
      " |-- clock_speed: double (nullable = true)\n",
      " |-- dual_sim: integer (nullable = true)\n",
      " |-- fc: integer (nullable = true)\n",
      " |-- four_g: integer (nullable = true)\n",
      " |-- int_memory: integer (nullable = true)\n",
      " |-- m_dep: double (nullable = true)\n",
      " |-- mobile_wt: integer (nullable = true)\n",
      " |-- n_cores: integer (nullable = true)\n",
      " |-- pc: integer (nullable = true)\n",
      " |-- px_height: integer (nullable = true)\n",
      " |-- px_width: integer (nullable = true)\n",
      " |-- ram: integer (nullable = true)\n",
      " |-- sc_h: integer (nullable = true)\n",
      " |-- sc_w: integer (nullable = true)\n",
      " |-- talk_time: integer (nullable = true)\n",
      " |-- three_g: integer (nullable = true)\n",
      " |-- touch_screen: integer (nullable = true)\n",
      " |-- wifi: integer (nullable = true)\n",
      "\n"
     ]
    }
   ],
   "source": [
    "df_test.printSchema()"
   ]
  },
  {
   "cell_type": "code",
   "execution_count": 659,
   "id": "5e16ec89",
   "metadata": {},
   "outputs": [],
   "source": [
    "# Находим общие столбцы в обоих файлах\n",
    "ident_columns = set(df_train.columns) & set(df_test.columns)\n",
    "\n",
    "# Удаляем различающиеся столбцы из обоих dataframe'ов\n",
    "df_train = df_train.drop(*(set(df_train.columns) - ident_columns))\n",
    "df_test = df_test.drop(*(set(df_test.columns) - ident_columns))\n",
    "\n",
    "# Объединяем данные\n",
    "df_data = df_train.union(df_test)"
   ]
  },
  {
   "cell_type": "code",
   "execution_count": 660,
   "id": "c88ecedd",
   "metadata": {},
   "outputs": [
    {
     "data": {
      "text/plain": [
       "2000"
      ]
     },
     "execution_count": 660,
     "metadata": {},
     "output_type": "execute_result"
    }
   ],
   "source": [
    "df_train.count()"
   ]
  },
  {
   "cell_type": "code",
   "execution_count": 661,
   "id": "122f4495",
   "metadata": {},
   "outputs": [
    {
     "data": {
      "text/plain": [
       "1000"
      ]
     },
     "execution_count": 661,
     "metadata": {},
     "output_type": "execute_result"
    }
   ],
   "source": [
    "df_test.count()"
   ]
  },
  {
   "cell_type": "code",
   "execution_count": 662,
   "id": "81475d9a",
   "metadata": {},
   "outputs": [
    {
     "data": {
      "text/plain": [
       "3000"
      ]
     },
     "execution_count": 662,
     "metadata": {},
     "output_type": "execute_result"
    }
   ],
   "source": [
    "df_data.count()"
   ]
  },
  {
   "cell_type": "code",
   "execution_count": 663,
   "id": "b65a0223",
   "metadata": {},
   "outputs": [
    {
     "name": "stdout",
     "output_type": "stream",
     "text": [
      "root\n",
      " |-- battery_power: integer (nullable = true)\n",
      " |-- blue: integer (nullable = true)\n",
      " |-- clock_speed: double (nullable = true)\n",
      " |-- dual_sim: integer (nullable = true)\n",
      " |-- fc: integer (nullable = true)\n",
      " |-- four_g: integer (nullable = true)\n",
      " |-- int_memory: integer (nullable = true)\n",
      " |-- m_dep: double (nullable = true)\n",
      " |-- mobile_wt: integer (nullable = true)\n",
      " |-- n_cores: integer (nullable = true)\n",
      " |-- pc: integer (nullable = true)\n",
      " |-- px_height: integer (nullable = true)\n",
      " |-- px_width: integer (nullable = true)\n",
      " |-- ram: integer (nullable = true)\n",
      " |-- sc_h: integer (nullable = true)\n",
      " |-- sc_w: integer (nullable = true)\n",
      " |-- talk_time: integer (nullable = true)\n",
      " |-- three_g: integer (nullable = true)\n",
      " |-- touch_screen: integer (nullable = true)\n",
      " |-- wifi: integer (nullable = true)\n",
      "\n"
     ]
    }
   ],
   "source": [
    "df_data.printSchema()"
   ]
  },
  {
   "cell_type": "code",
   "execution_count": 664,
   "id": "ae3ea9bb",
   "metadata": {},
   "outputs": [],
   "source": [
    "# Создаём колонки с соотношением сторон и плотностью пикселей\n",
    "\n",
    "# Отсеиваем строки с нулевыми данными \n",
    "df_data = df_data.select('*').where('sc_h != 0 and sc_w != 0 and px_height != 0 and px_width != 0')\n",
    "\n",
    "# Добавляем столбец с соотношением сторон\n",
    "df_data = df_data.withColumn('screen_ratio', F.round((F.col('sc_h')/F.col('sc_w')).cast(FloatType()), 2))\n",
    "\n",
    "# Создаём колонки с соотношением сторон и плотностью пикселей\n",
    "df_data = df_data.withColumn('ppi', F.round( \\\n",
    "                                            (F.sqrt((F.pow(F.col('px_width'), 2) + F.pow(F.col('px_height'), 2))) / \\\n",
    "                                            (F.sqrt(F.pow(F.col('sc_w'), 2) + F.pow(F.col('sc_h'), 2)) * 0.3937)) \\\n",
    "                                            .cast(FloatType()), 0))"
   ]
  },
  {
   "cell_type": "code",
   "execution_count": 665,
   "id": "841c5ae2",
   "metadata": {},
   "outputs": [
    {
     "data": {
      "text/plain": [
       "2705"
      ]
     },
     "execution_count": 665,
     "metadata": {},
     "output_type": "execute_result"
    }
   ],
   "source": [
    "df_data.count()"
   ]
  },
  {
   "cell_type": "code",
   "execution_count": 666,
   "id": "50670f19",
   "metadata": {},
   "outputs": [
    {
     "name": "stdout",
     "output_type": "stream",
     "text": [
      "root\n",
      " |-- battery_power: integer (nullable = true)\n",
      " |-- blue: integer (nullable = true)\n",
      " |-- clock_speed: double (nullable = true)\n",
      " |-- dual_sim: integer (nullable = true)\n",
      " |-- fc: integer (nullable = true)\n",
      " |-- four_g: integer (nullable = true)\n",
      " |-- int_memory: integer (nullable = true)\n",
      " |-- m_dep: double (nullable = true)\n",
      " |-- mobile_wt: integer (nullable = true)\n",
      " |-- n_cores: integer (nullable = true)\n",
      " |-- pc: integer (nullable = true)\n",
      " |-- px_height: integer (nullable = true)\n",
      " |-- px_width: integer (nullable = true)\n",
      " |-- ram: integer (nullable = true)\n",
      " |-- sc_h: integer (nullable = true)\n",
      " |-- sc_w: integer (nullable = true)\n",
      " |-- talk_time: integer (nullable = true)\n",
      " |-- three_g: integer (nullable = true)\n",
      " |-- touch_screen: integer (nullable = true)\n",
      " |-- wifi: integer (nullable = true)\n",
      " |-- screen_ratio: float (nullable = true)\n",
      " |-- ppi: float (nullable = true)\n",
      "\n"
     ]
    }
   ],
   "source": [
    "df_data.printSchema()"
   ]
  },
  {
   "cell_type": "code",
   "execution_count": 667,
   "id": "0f0ba748",
   "metadata": {},
   "outputs": [
    {
     "name": "stdout",
     "output_type": "stream",
     "text": [
      "+-------------+----+----+------------+--------+---------+-----+\n",
      "|battery_power|sc_h|sc_w|screen_ratio|px_width|px_height|  ppi|\n",
      "+-------------+----+----+------------+--------+---------+-----+\n",
      "|          842|   9|   7|        1.29|     756|       20|168.0|\n",
      "|         1021|  17|   3|        5.67|    1988|      905|321.0|\n",
      "|          563|  11|   2|         5.5|    1716|     1263|484.0|\n",
      "|          615|  16|   8|         2.0|    1786|     1216|307.0|\n",
      "|         1821|   8|   2|         4.0|    1212|     1208|527.0|\n",
      "|         1859|  17|   1|        17.0|    1654|     1004|289.0|\n",
      "|         1821|  13|   8|        1.63|    1018|      381|181.0|\n",
      "|         1954|  16|   3|        5.33|    1149|      512|196.0|\n",
      "|         1445|  17|   1|        17.0|     836|      386|137.0|\n",
      "|          509|  19|  10|         1.9|    1224|     1137|198.0|\n",
      "+-------------+----+----+------------+--------+---------+-----+\n",
      "only showing top 10 rows\n",
      "\n"
     ]
    }
   ],
   "source": [
    "df_data.select('battery_power', 'sc_h', 'sc_w', 'screen_ratio', 'px_width', 'px_height', 'ppi').show(10)"
   ]
  },
  {
   "cell_type": "code",
   "execution_count": 668,
   "id": "e17739a0",
   "metadata": {},
   "outputs": [
    {
     "name": "stderr",
     "output_type": "stream",
     "text": [
      "                                                                                \r"
     ]
    },
    {
     "name": "stdout",
     "output_type": "stream",
     "text": [
      "+------------+-----+\n",
      "|screen_ratio|count|\n",
      "+------------+-----+\n",
      "|        1.78|    8|\n",
      "|         1.8|   33|\n",
      "|        1.83|   13|\n",
      "|        1.86|   17|\n",
      "|        1.88|   15|\n",
      "|        1.89|   13|\n",
      "|         1.9|   15|\n",
      "|         2.0|  123|\n",
      "|        2.11|    9|\n",
      "|        2.13|   17|\n",
      "+------------+-----+\n",
      "only showing top 10 rows\n",
      "\n"
     ]
    }
   ],
   "source": [
    "# Для демонстрации выводим только широкоформатные модели\n",
    "df_data.select('screen_ratio') \\\n",
    "       .groupBy('screen_ratio').count() \\\n",
    "       .orderBy('screen_ratio').filter(F.col('screen_ratio') >= 1.77).show(10)"
   ]
  },
  {
   "cell_type": "code",
   "execution_count": 669,
   "id": "ac527afb",
   "metadata": {},
   "outputs": [
    {
     "name": "stderr",
     "output_type": "stream",
     "text": [
      "[Stage 549:==================================================>  (190 + 4) / 200]\r"
     ]
    },
    {
     "name": "stdout",
     "output_type": "stream",
     "text": [
      "+----+-----+\n",
      "| ppi|count|\n",
      "+----+-----+\n",
      "|56.0|    1|\n",
      "|61.0|    3|\n",
      "|63.0|    1|\n",
      "|64.0|    1|\n",
      "|65.0|    1|\n",
      "|67.0|    2|\n",
      "|68.0|    1|\n",
      "|69.0|    1|\n",
      "|70.0|    1|\n",
      "|71.0|    1|\n",
      "+----+-----+\n",
      "only showing top 10 rows\n",
      "\n"
     ]
    },
    {
     "name": "stderr",
     "output_type": "stream",
     "text": [
      "\r",
      "                                                                                \r"
     ]
    }
   ],
   "source": [
    "# Для демонстрации выводим ppi в отсортированном виде\n",
    "df_data.select('ppi').groupBy('ppi').count().orderBy('ppi').show(10)"
   ]
  },
  {
   "cell_type": "code",
   "execution_count": 670,
   "id": "0ac4cdb4",
   "metadata": {},
   "outputs": [
    {
     "name": "stderr",
     "output_type": "stream",
     "text": [
      "21/08/16 07:55:36 WARN WindowExec: No Partition Defined for Window operation! Moving all data to a single partition, this can cause serious performance degradation.\n",
      "                                                                                \r"
     ]
    }
   ],
   "source": [
    "# Сохраните результат в csv sep=';', encoding='cp1251'\n",
    "# с колонками id, плотность пикселей и временем разговора в формате \"1day 1hour 1minute\"\n",
    "# 2 балла\n",
    "\n",
    "# !!!!! ЗАДАНИЕ С ВРЕМЕНЕМ РАЗГОВОРА НЕ ПОНЯЛ !!!!!\n",
    "# НУЖНЫЙ СТОЛБЕЦ НАШЕЛ (talk_time). НЕ ПОНЯЛ СМЫСЛА ЗАДАНИЯ\n",
    "# ПОСЧИТАЛ, ЧТО ЗАДАНИЕ НА ИСПОЛЬЗОВАНИЕ ФУНКЦИИ КОНКАТЕНАЦИИ.\n",
    "# СКОРЕЕ ВСЕГО, ЗАДАНИЕ ПОНЯЛ НЕПРАВИЛЬНО. НО С САМОЙ ФУНКЦИЕЙ РАЗОБРАЛСЯ.\n",
    "\n",
    "from pyspark.sql import Window\n",
    "\n",
    "# Добавляем столбец с id. Так как выводится в итоговый файл ppi, то решил к нему id привязать.\n",
    "window = Window.orderBy('ppi')\n",
    "df_data_final = df_data.withColumn('id', F.row_number().over(window))\n",
    "# Затем добавил столбец с временем разговора.\n",
    "# В итоговый набор данных добавил поля id, ppi, talk_time, time (преобразованный согласно заданию talk_time)\n",
    "df_data_final = df_data_final.select('id', 'ppi', 'talk_time') \\\n",
    "                             .withColumn('time', F.concat(F.lit('1'), F.concat_ws(' 1', \\\n",
    "                                                                        (F.col('talk_time') /  24).cast('int'), \\\n",
    "                                                                        (F.col('talk_time') % 24), \\\n",
    "                                                                         F.lit('0'))))\n",
    "\n",
    "df_data_final.write.csv(path = './result.csv', mode = 'overwrite', sep = ';', encoding = 'cp1251', header = True)"
   ]
  },
  {
   "cell_type": "code",
   "execution_count": 671,
   "id": "965eb741",
   "metadata": {},
   "outputs": [
    {
     "data": {
      "text/plain": [
       "2705"
      ]
     },
     "execution_count": 671,
     "metadata": {},
     "output_type": "execute_result"
    }
   ],
   "source": [
    "df_data_final.select('*').count()"
   ]
  },
  {
   "cell_type": "code",
   "execution_count": 673,
   "id": "b301d8b0",
   "metadata": {},
   "outputs": [
    {
     "data": {
      "text/plain": [
       "['id', 'ppi', 'talk_time', 'time']"
      ]
     },
     "execution_count": 673,
     "metadata": {},
     "output_type": "execute_result"
    }
   ],
   "source": [
    "df_data_final.columns"
   ]
  },
  {
   "cell_type": "code",
   "execution_count": null,
   "id": "72876d7d",
   "metadata": {},
   "outputs": [],
   "source": []
  }
 ],
 "metadata": {
  "kernelspec": {
   "display_name": "Python 3 (ipykernel)",
   "language": "python",
   "name": "python3"
  },
  "language_info": {
   "codemirror_mode": {
    "name": "ipython",
    "version": 3
   },
   "file_extension": ".py",
   "mimetype": "text/x-python",
   "name": "python",
   "nbconvert_exporter": "python",
   "pygments_lexer": "ipython3",
   "version": "3.9.6"
  }
 },
 "nbformat": 4,
 "nbformat_minor": 5
}
